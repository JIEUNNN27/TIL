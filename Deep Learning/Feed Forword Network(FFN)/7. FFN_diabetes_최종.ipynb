{
  "nbformat": 4,
  "nbformat_minor": 0,
  "metadata": {
    "colab": {
      "name": "코드연습8 - 당뇨병 데이터 데이터 표준화, 설명 추가.ipynb",
      "provenance": []
    },
    "kernelspec": {
      "name": "python3",
      "display_name": "Python 3"
    },
    "language_info": {
      "name": "python"
    }
  },
  "cells": [
    {
      "cell_type": "code",
      "execution_count": null,
      "metadata": {
        "id": "Z8NX3hK7jcku"
      },
      "outputs": [],
      "source": [
        "import numpy as np\n",
        "import pandas as pd"
      ]
    },
    {
      "cell_type": "code",
      "source": [
        "path = '/content/drive/MyDrive/Colab Notebooks/data/'\n",
        "diabetes = pd.read_csv(path + 'diabetes.csv')\n",
        "diabetes.head()"
      ],
      "metadata": {
        "colab": {
          "base_uri": "https://localhost:8080/",
          "height": 270
        },
        "id": "vyJvJ4wVjxp4",
        "outputId": "32c59638-49c1-4fd9-84eb-9c9208cb0032"
      },
      "execution_count": null,
      "outputs": [
        {
          "output_type": "execute_result",
          "data": {
            "text/html": [
              "\n",
              "  <div id=\"df-51a879c3-9d85-4ac0-8b4d-729dfbbede05\">\n",
              "    <div class=\"colab-df-container\">\n",
              "      <div>\n",
              "<style scoped>\n",
              "    .dataframe tbody tr th:only-of-type {\n",
              "        vertical-align: middle;\n",
              "    }\n",
              "\n",
              "    .dataframe tbody tr th {\n",
              "        vertical-align: top;\n",
              "    }\n",
              "\n",
              "    .dataframe thead th {\n",
              "        text-align: right;\n",
              "    }\n",
              "</style>\n",
              "<table border=\"1\" class=\"dataframe\">\n",
              "  <thead>\n",
              "    <tr style=\"text-align: right;\">\n",
              "      <th></th>\n",
              "      <th>Pregnancies</th>\n",
              "      <th>Glucose</th>\n",
              "      <th>BloodPressure</th>\n",
              "      <th>SkinThickness</th>\n",
              "      <th>Insulin</th>\n",
              "      <th>BMI</th>\n",
              "      <th>DiabetesPedigreeFunction</th>\n",
              "      <th>Age</th>\n",
              "      <th>Outcome</th>\n",
              "    </tr>\n",
              "  </thead>\n",
              "  <tbody>\n",
              "    <tr>\n",
              "      <th>0</th>\n",
              "      <td>6</td>\n",
              "      <td>148</td>\n",
              "      <td>72</td>\n",
              "      <td>35</td>\n",
              "      <td>0</td>\n",
              "      <td>33.6</td>\n",
              "      <td>0.627</td>\n",
              "      <td>50</td>\n",
              "      <td>1</td>\n",
              "    </tr>\n",
              "    <tr>\n",
              "      <th>1</th>\n",
              "      <td>1</td>\n",
              "      <td>85</td>\n",
              "      <td>66</td>\n",
              "      <td>29</td>\n",
              "      <td>0</td>\n",
              "      <td>26.6</td>\n",
              "      <td>0.351</td>\n",
              "      <td>31</td>\n",
              "      <td>0</td>\n",
              "    </tr>\n",
              "    <tr>\n",
              "      <th>2</th>\n",
              "      <td>8</td>\n",
              "      <td>183</td>\n",
              "      <td>64</td>\n",
              "      <td>0</td>\n",
              "      <td>0</td>\n",
              "      <td>23.3</td>\n",
              "      <td>0.672</td>\n",
              "      <td>32</td>\n",
              "      <td>1</td>\n",
              "    </tr>\n",
              "    <tr>\n",
              "      <th>3</th>\n",
              "      <td>1</td>\n",
              "      <td>89</td>\n",
              "      <td>66</td>\n",
              "      <td>23</td>\n",
              "      <td>94</td>\n",
              "      <td>28.1</td>\n",
              "      <td>0.167</td>\n",
              "      <td>21</td>\n",
              "      <td>0</td>\n",
              "    </tr>\n",
              "    <tr>\n",
              "      <th>4</th>\n",
              "      <td>0</td>\n",
              "      <td>137</td>\n",
              "      <td>40</td>\n",
              "      <td>35</td>\n",
              "      <td>168</td>\n",
              "      <td>43.1</td>\n",
              "      <td>2.288</td>\n",
              "      <td>33</td>\n",
              "      <td>1</td>\n",
              "    </tr>\n",
              "  </tbody>\n",
              "</table>\n",
              "</div>\n",
              "      <button class=\"colab-df-convert\" onclick=\"convertToInteractive('df-51a879c3-9d85-4ac0-8b4d-729dfbbede05')\"\n",
              "              title=\"Convert this dataframe to an interactive table.\"\n",
              "              style=\"display:none;\">\n",
              "        \n",
              "  <svg xmlns=\"http://www.w3.org/2000/svg\" height=\"24px\"viewBox=\"0 0 24 24\"\n",
              "       width=\"24px\">\n",
              "    <path d=\"M0 0h24v24H0V0z\" fill=\"none\"/>\n",
              "    <path d=\"M18.56 5.44l.94 2.06.94-2.06 2.06-.94-2.06-.94-.94-2.06-.94 2.06-2.06.94zm-11 1L8.5 8.5l.94-2.06 2.06-.94-2.06-.94L8.5 2.5l-.94 2.06-2.06.94zm10 10l.94 2.06.94-2.06 2.06-.94-2.06-.94-.94-2.06-.94 2.06-2.06.94z\"/><path d=\"M17.41 7.96l-1.37-1.37c-.4-.4-.92-.59-1.43-.59-.52 0-1.04.2-1.43.59L10.3 9.45l-7.72 7.72c-.78.78-.78 2.05 0 2.83L4 21.41c.39.39.9.59 1.41.59.51 0 1.02-.2 1.41-.59l7.78-7.78 2.81-2.81c.8-.78.8-2.07 0-2.86zM5.41 20L4 18.59l7.72-7.72 1.47 1.35L5.41 20z\"/>\n",
              "  </svg>\n",
              "      </button>\n",
              "      \n",
              "  <style>\n",
              "    .colab-df-container {\n",
              "      display:flex;\n",
              "      flex-wrap:wrap;\n",
              "      gap: 12px;\n",
              "    }\n",
              "\n",
              "    .colab-df-convert {\n",
              "      background-color: #E8F0FE;\n",
              "      border: none;\n",
              "      border-radius: 50%;\n",
              "      cursor: pointer;\n",
              "      display: none;\n",
              "      fill: #1967D2;\n",
              "      height: 32px;\n",
              "      padding: 0 0 0 0;\n",
              "      width: 32px;\n",
              "    }\n",
              "\n",
              "    .colab-df-convert:hover {\n",
              "      background-color: #E2EBFA;\n",
              "      box-shadow: 0px 1px 2px rgba(60, 64, 67, 0.3), 0px 1px 3px 1px rgba(60, 64, 67, 0.15);\n",
              "      fill: #174EA6;\n",
              "    }\n",
              "\n",
              "    [theme=dark] .colab-df-convert {\n",
              "      background-color: #3B4455;\n",
              "      fill: #D2E3FC;\n",
              "    }\n",
              "\n",
              "    [theme=dark] .colab-df-convert:hover {\n",
              "      background-color: #434B5C;\n",
              "      box-shadow: 0px 1px 3px 1px rgba(0, 0, 0, 0.15);\n",
              "      filter: drop-shadow(0px 1px 2px rgba(0, 0, 0, 0.3));\n",
              "      fill: #FFFFFF;\n",
              "    }\n",
              "  </style>\n",
              "\n",
              "      <script>\n",
              "        const buttonEl =\n",
              "          document.querySelector('#df-51a879c3-9d85-4ac0-8b4d-729dfbbede05 button.colab-df-convert');\n",
              "        buttonEl.style.display =\n",
              "          google.colab.kernel.accessAllowed ? 'block' : 'none';\n",
              "\n",
              "        async function convertToInteractive(key) {\n",
              "          const element = document.querySelector('#df-51a879c3-9d85-4ac0-8b4d-729dfbbede05');\n",
              "          const dataTable =\n",
              "            await google.colab.kernel.invokeFunction('convertToInteractive',\n",
              "                                                     [key], {});\n",
              "          if (!dataTable) return;\n",
              "\n",
              "          const docLinkHtml = 'Like what you see? Visit the ' +\n",
              "            '<a target=\"_blank\" href=https://colab.research.google.com/notebooks/data_table.ipynb>data table notebook</a>'\n",
              "            + ' to learn more about interactive tables.';\n",
              "          element.innerHTML = '';\n",
              "          dataTable['output_type'] = 'display_data';\n",
              "          await google.colab.output.renderOutput(dataTable, element);\n",
              "          const docLink = document.createElement('div');\n",
              "          docLink.innerHTML = docLinkHtml;\n",
              "          element.appendChild(docLink);\n",
              "        }\n",
              "      </script>\n",
              "    </div>\n",
              "  </div>\n",
              "  "
            ],
            "text/plain": [
              "   Pregnancies  Glucose  BloodPressure  ...  DiabetesPedigreeFunction  Age  Outcome\n",
              "0            6      148             72  ...                     0.627   50        1\n",
              "1            1       85             66  ...                     0.351   31        0\n",
              "2            8      183             64  ...                     0.672   32        1\n",
              "3            1       89             66  ...                     0.167   21        0\n",
              "4            0      137             40  ...                     2.288   33        1\n",
              "\n",
              "[5 rows x 9 columns]"
            ]
          },
          "metadata": {},
          "execution_count": 54
        }
      ]
    },
    {
      "cell_type": "code",
      "source": [
        "x_feat = np.array(diabetes.drop('Outcome', axis=1))\n",
        "y_target = np.array(diabetes['Outcome']).reshape(-1,1)"
      ],
      "metadata": {
        "id": "IM1HIH6IkBOD"
      },
      "execution_count": null,
      "outputs": []
    },
    {
      "cell_type": "code",
      "source": [
        "#데이터 표준화\n",
        "from sklearn.preprocessing import MinMaxScaler\n",
        "\n",
        "f_scale = MinMaxScaler()\n",
        "\n",
        "\n",
        "f_scaled = f_scale.fit_transform(x_feat)\n",
        "\n",
        "#데이터 쪼개기\n",
        "from sklearn.model_selection import train_test_split\n",
        "\n",
        "x_train, x_test, y_train, y_test = train_test_split(f_scaled, y_target, test_size = 0.2)"
      ],
      "metadata": {
        "id": "9FNSo5XjsX4I"
      },
      "execution_count": null,
      "outputs": []
    },
    {
      "cell_type": "code",
      "source": [
        "x_train"
      ],
      "metadata": {
        "colab": {
          "base_uri": "https://localhost:8080/"
        },
        "id": "EFJDLgdUua9H",
        "outputId": "d4f9982f-fde9-448d-9c32-0024945010e7"
      },
      "execution_count": null,
      "outputs": [
        {
          "output_type": "execute_result",
          "data": {
            "text/plain": [
              "array([[0.11764706, 0.6281407 , 0.49180328, ..., 0.50372578, 0.00426985,\n",
              "        0.16666667],\n",
              "       [0.05882353, 0.59798995, 0.44262295, ..., 0.33233979, 0.05422716,\n",
              "        0.05      ],\n",
              "       [0.05882353, 0.55778894, 0.7704918 , ..., 0.48882265, 0.07984629,\n",
              "        0.4       ],\n",
              "       ...,\n",
              "       [0.11764706, 0.44221106, 0.47540984, ..., 0.42324888, 0.29376601,\n",
              "        0.01666667],\n",
              "       [0.58823529, 0.61306533, 0.63934426, ..., 0.41132638, 0.1853117 ,\n",
              "        0.4       ],\n",
              "       [0.05882353, 0.69346734, 0.67213115, ..., 0.5976155 , 0.06746371,\n",
              "        0.11666667]])"
            ]
          },
          "metadata": {},
          "execution_count": 57
        }
      ]
    },
    {
      "cell_type": "code",
      "source": [
        "#입력층, 은닉층, 출력층 구성할 때 사용\n",
        "from tensorflow.keras.layers import Input, Dense\n",
        "#모델 구성할 때 사용\n",
        "from tensorflow.keras.models import Model"
      ],
      "metadata": {
        "id": "4ir1ugbKljHw"
      },
      "execution_count": null,
      "outputs": []
    },
    {
      "cell_type": "code",
      "source": [
        "x_train.shape[1]"
      ],
      "metadata": {
        "colab": {
          "base_uri": "https://localhost:8080/"
        },
        "id": "tczDRaMumMEj",
        "outputId": "7940577b-f17a-4b8c-e054-b4e09b0e8a4e"
      },
      "execution_count": null,
      "outputs": [
        {
          "output_type": "execute_result",
          "data": {
            "text/plain": [
              "8"
            ]
          },
          "metadata": {},
          "execution_count": 59
        }
      ]
    },
    {
      "cell_type": "code",
      "source": [
        "y_train.shape[1]"
      ],
      "metadata": {
        "colab": {
          "base_uri": "https://localhost:8080/"
        },
        "id": "L9NScW2_mpLj",
        "outputId": "78fe8ecb-6e01-439f-b2ba-94fd6ad6ae02"
      },
      "execution_count": null,
      "outputs": [
        {
          "output_type": "execute_result",
          "data": {
            "text/plain": [
              "1"
            ]
          },
          "metadata": {},
          "execution_count": 60
        }
      ]
    },
    {
      "cell_type": "code",
      "source": [
        "#Network 생성\n",
        "#입력층 구성\n",
        "#2차원 구조\n",
        "#Non의 의미? -> 노트필기에!!\n",
        "xInput = Input(batch_shape = (None, x_train.shape[1]))\n",
        "\n",
        "#은닉층 구성\n",
        "#activation = relu\n",
        "hLayer = Dense(10, activation = 'relu')(xInput)\n",
        "\n",
        "#출력층 구성\n",
        "yOutput = Dense(y_train.shape[1], activation='sigmoid')(hLayer)"
      ],
      "metadata": {
        "id": "S5kV8LG1knwX"
      },
      "execution_count": null,
      "outputs": []
    },
    {
      "cell_type": "markdown",
      "source": [
        "batch_size와 none의 의미..\n",
        "```\n",
        "hyper parameter\n",
        "```"
      ],
      "metadata": {
        "id": "geEyjlsx6URa"
      }
    },
    {
      "cell_type": "code",
      "source": [
        "#모델을 만든다\n",
        "model = Model(xInput, yOutput)\n",
        "\n",
        "#학습 방법을 설정\n",
        "model.compile(loss = 'binary_crossentropy', optimizer='adam')\n",
        "\n",
        "#학습시킨다\n",
        "#model.fit(x_train, y_train, epochs = 100)\n",
        "\n",
        "#batch_size를 적당이 넣어 준다... -> hyper parameter\n",
        "#model.fit(x_train, y_train, batch_size = 1, epochs = 100)\n",
        "#model.fit(x_train, y_train, batch_size = 50, epochs = 100)"
      ],
      "metadata": {
        "id": "dEzNNdvJmVof"
      },
      "execution_count": null,
      "outputs": []
    },
    {
      "cell_type": "code",
      "source": [
        "import matplotlib.pyplot as plt"
      ],
      "metadata": {
        "id": "TGSZqSQH7RuU"
      },
      "execution_count": null,
      "outputs": []
    },
    {
      "cell_type": "code",
      "source": [
        "#이렇게 하면 중간중간에 loss값을 계산해서 보여준다\n",
        "#(loss: 트레인, loss: xptmxm)\n",
        "hist = model.fit(x_train, y_train, batch_size = 50, epochs = 100,\n",
        "          validation_data = (x_test, y_test))\n"
      ],
      "metadata": {
        "colab": {
          "base_uri": "https://localhost:8080/"
        },
        "id": "uV3jxIvv68uK",
        "outputId": "71a449cc-1d16-4ccc-aaf1-b76096e37fb4"
      },
      "execution_count": null,
      "outputs": [
        {
          "output_type": "stream",
          "name": "stdout",
          "text": [
            "Epoch 1/100\n",
            "13/13 [==============================] - 1s 15ms/step - loss: 0.4591 - val_loss: 0.5134\n",
            "Epoch 2/100\n",
            "13/13 [==============================] - 0s 5ms/step - loss: 0.4592 - val_loss: 0.5119\n",
            "Epoch 3/100\n",
            "13/13 [==============================] - 0s 4ms/step - loss: 0.4583 - val_loss: 0.5118\n",
            "Epoch 4/100\n",
            "13/13 [==============================] - 0s 5ms/step - loss: 0.4577 - val_loss: 0.5125\n",
            "Epoch 5/100\n",
            "13/13 [==============================] - 0s 5ms/step - loss: 0.4576 - val_loss: 0.5127\n",
            "Epoch 6/100\n",
            "13/13 [==============================] - 0s 5ms/step - loss: 0.4578 - val_loss: 0.5133\n",
            "Epoch 7/100\n",
            "13/13 [==============================] - 0s 5ms/step - loss: 0.4572 - val_loss: 0.5128\n",
            "Epoch 8/100\n",
            "13/13 [==============================] - 0s 5ms/step - loss: 0.4580 - val_loss: 0.5108\n",
            "Epoch 9/100\n",
            "13/13 [==============================] - 0s 4ms/step - loss: 0.4562 - val_loss: 0.5126\n",
            "Epoch 10/100\n",
            "13/13 [==============================] - 0s 5ms/step - loss: 0.4565 - val_loss: 0.5117\n",
            "Epoch 11/100\n",
            "13/13 [==============================] - 0s 4ms/step - loss: 0.4561 - val_loss: 0.5112\n",
            "Epoch 12/100\n",
            "13/13 [==============================] - 0s 6ms/step - loss: 0.4559 - val_loss: 0.5103\n",
            "Epoch 13/100\n",
            "13/13 [==============================] - 0s 4ms/step - loss: 0.4559 - val_loss: 0.5097\n",
            "Epoch 14/100\n",
            "13/13 [==============================] - 0s 5ms/step - loss: 0.4561 - val_loss: 0.5096\n",
            "Epoch 15/100\n",
            "13/13 [==============================] - 0s 6ms/step - loss: 0.4552 - val_loss: 0.5110\n",
            "Epoch 16/100\n",
            "13/13 [==============================] - 0s 5ms/step - loss: 0.4551 - val_loss: 0.5107\n",
            "Epoch 17/100\n",
            "13/13 [==============================] - 0s 4ms/step - loss: 0.4549 - val_loss: 0.5100\n",
            "Epoch 18/100\n",
            "13/13 [==============================] - 0s 4ms/step - loss: 0.4550 - val_loss: 0.5092\n",
            "Epoch 19/100\n",
            "13/13 [==============================] - 0s 4ms/step - loss: 0.4547 - val_loss: 0.5103\n",
            "Epoch 20/100\n",
            "13/13 [==============================] - 0s 5ms/step - loss: 0.4543 - val_loss: 0.5105\n",
            "Epoch 21/100\n",
            "13/13 [==============================] - 0s 4ms/step - loss: 0.4541 - val_loss: 0.5101\n",
            "Epoch 22/100\n",
            "13/13 [==============================] - 0s 5ms/step - loss: 0.4541 - val_loss: 0.5108\n",
            "Epoch 23/100\n",
            "13/13 [==============================] - 0s 5ms/step - loss: 0.4540 - val_loss: 0.5093\n",
            "Epoch 24/100\n",
            "13/13 [==============================] - 0s 4ms/step - loss: 0.4536 - val_loss: 0.5096\n",
            "Epoch 25/100\n",
            "13/13 [==============================] - 0s 5ms/step - loss: 0.4534 - val_loss: 0.5101\n",
            "Epoch 26/100\n",
            "13/13 [==============================] - 0s 5ms/step - loss: 0.4531 - val_loss: 0.5101\n",
            "Epoch 27/100\n",
            "13/13 [==============================] - 0s 5ms/step - loss: 0.4539 - val_loss: 0.5092\n",
            "Epoch 28/100\n",
            "13/13 [==============================] - 0s 5ms/step - loss: 0.4529 - val_loss: 0.5104\n",
            "Epoch 29/100\n",
            "13/13 [==============================] - 0s 4ms/step - loss: 0.4525 - val_loss: 0.5109\n",
            "Epoch 30/100\n",
            "13/13 [==============================] - 0s 5ms/step - loss: 0.4523 - val_loss: 0.5096\n",
            "Epoch 31/100\n",
            "13/13 [==============================] - 0s 4ms/step - loss: 0.4521 - val_loss: 0.5094\n",
            "Epoch 32/100\n",
            "13/13 [==============================] - 0s 4ms/step - loss: 0.4521 - val_loss: 0.5099\n",
            "Epoch 33/100\n",
            "13/13 [==============================] - 0s 5ms/step - loss: 0.4518 - val_loss: 0.5092\n",
            "Epoch 34/100\n",
            "13/13 [==============================] - 0s 4ms/step - loss: 0.4520 - val_loss: 0.5094\n",
            "Epoch 35/100\n",
            "13/13 [==============================] - 0s 5ms/step - loss: 0.4514 - val_loss: 0.5084\n",
            "Epoch 36/100\n",
            "13/13 [==============================] - 0s 5ms/step - loss: 0.4512 - val_loss: 0.5092\n",
            "Epoch 37/100\n",
            "13/13 [==============================] - 0s 4ms/step - loss: 0.4511 - val_loss: 0.5097\n",
            "Epoch 38/100\n",
            "13/13 [==============================] - 0s 4ms/step - loss: 0.4509 - val_loss: 0.5084\n",
            "Epoch 39/100\n",
            "13/13 [==============================] - 0s 4ms/step - loss: 0.4505 - val_loss: 0.5077\n",
            "Epoch 40/100\n",
            "13/13 [==============================] - 0s 5ms/step - loss: 0.4508 - val_loss: 0.5073\n",
            "Epoch 41/100\n",
            "13/13 [==============================] - 0s 4ms/step - loss: 0.4502 - val_loss: 0.5082\n",
            "Epoch 42/100\n",
            "13/13 [==============================] - 0s 5ms/step - loss: 0.4502 - val_loss: 0.5090\n",
            "Epoch 43/100\n",
            "13/13 [==============================] - 0s 4ms/step - loss: 0.4502 - val_loss: 0.5082\n",
            "Epoch 44/100\n",
            "13/13 [==============================] - 0s 5ms/step - loss: 0.4500 - val_loss: 0.5084\n",
            "Epoch 45/100\n",
            "13/13 [==============================] - 0s 5ms/step - loss: 0.4502 - val_loss: 0.5069\n",
            "Epoch 46/100\n",
            "13/13 [==============================] - 0s 4ms/step - loss: 0.4496 - val_loss: 0.5070\n",
            "Epoch 47/100\n",
            "13/13 [==============================] - 0s 5ms/step - loss: 0.4496 - val_loss: 0.5085\n",
            "Epoch 48/100\n",
            "13/13 [==============================] - 0s 5ms/step - loss: 0.4492 - val_loss: 0.5085\n",
            "Epoch 49/100\n",
            "13/13 [==============================] - 0s 4ms/step - loss: 0.4491 - val_loss: 0.5077\n",
            "Epoch 50/100\n",
            "13/13 [==============================] - 0s 4ms/step - loss: 0.4495 - val_loss: 0.5061\n",
            "Epoch 51/100\n",
            "13/13 [==============================] - 0s 6ms/step - loss: 0.4488 - val_loss: 0.5066\n",
            "Epoch 52/100\n",
            "13/13 [==============================] - 0s 5ms/step - loss: 0.4483 - val_loss: 0.5077\n",
            "Epoch 53/100\n",
            "13/13 [==============================] - 0s 4ms/step - loss: 0.4494 - val_loss: 0.5093\n",
            "Epoch 54/100\n",
            "13/13 [==============================] - 0s 5ms/step - loss: 0.4483 - val_loss: 0.5069\n",
            "Epoch 55/100\n",
            "13/13 [==============================] - 0s 4ms/step - loss: 0.4486 - val_loss: 0.5054\n",
            "Epoch 56/100\n",
            "13/13 [==============================] - 0s 4ms/step - loss: 0.4481 - val_loss: 0.5056\n",
            "Epoch 57/100\n",
            "13/13 [==============================] - 0s 4ms/step - loss: 0.4480 - val_loss: 0.5075\n",
            "Epoch 58/100\n",
            "13/13 [==============================] - 0s 4ms/step - loss: 0.4477 - val_loss: 0.5067\n",
            "Epoch 59/100\n",
            "13/13 [==============================] - 0s 5ms/step - loss: 0.4475 - val_loss: 0.5061\n",
            "Epoch 60/100\n",
            "13/13 [==============================] - 0s 5ms/step - loss: 0.4476 - val_loss: 0.5065\n",
            "Epoch 61/100\n",
            "13/13 [==============================] - 0s 5ms/step - loss: 0.4475 - val_loss: 0.5051\n",
            "Epoch 62/100\n",
            "13/13 [==============================] - 0s 5ms/step - loss: 0.4472 - val_loss: 0.5055\n",
            "Epoch 63/100\n",
            "13/13 [==============================] - 0s 5ms/step - loss: 0.4472 - val_loss: 0.5054\n",
            "Epoch 64/100\n",
            "13/13 [==============================] - 0s 4ms/step - loss: 0.4466 - val_loss: 0.5059\n",
            "Epoch 65/100\n",
            "13/13 [==============================] - 0s 4ms/step - loss: 0.4468 - val_loss: 0.5062\n",
            "Epoch 66/100\n",
            "13/13 [==============================] - 0s 5ms/step - loss: 0.4468 - val_loss: 0.5061\n",
            "Epoch 67/100\n",
            "13/13 [==============================] - 0s 4ms/step - loss: 0.4468 - val_loss: 0.5046\n",
            "Epoch 68/100\n",
            "13/13 [==============================] - 0s 6ms/step - loss: 0.4464 - val_loss: 0.5046\n",
            "Epoch 69/100\n",
            "13/13 [==============================] - 0s 5ms/step - loss: 0.4464 - val_loss: 0.5051\n",
            "Epoch 70/100\n",
            "13/13 [==============================] - 0s 4ms/step - loss: 0.4464 - val_loss: 0.5050\n",
            "Epoch 71/100\n",
            "13/13 [==============================] - 0s 5ms/step - loss: 0.4462 - val_loss: 0.5067\n",
            "Epoch 72/100\n",
            "13/13 [==============================] - 0s 5ms/step - loss: 0.4461 - val_loss: 0.5060\n",
            "Epoch 73/100\n",
            "13/13 [==============================] - 0s 5ms/step - loss: 0.4465 - val_loss: 0.5041\n",
            "Epoch 74/100\n",
            "13/13 [==============================] - 0s 5ms/step - loss: 0.4454 - val_loss: 0.5048\n",
            "Epoch 75/100\n",
            "13/13 [==============================] - 0s 5ms/step - loss: 0.4452 - val_loss: 0.5057\n",
            "Epoch 76/100\n",
            "13/13 [==============================] - 0s 4ms/step - loss: 0.4452 - val_loss: 0.5058\n",
            "Epoch 77/100\n",
            "13/13 [==============================] - 0s 3ms/step - loss: 0.4452 - val_loss: 0.5051\n",
            "Epoch 78/100\n",
            "13/13 [==============================] - 0s 6ms/step - loss: 0.4453 - val_loss: 0.5055\n",
            "Epoch 79/100\n",
            "13/13 [==============================] - 0s 5ms/step - loss: 0.4450 - val_loss: 0.5040\n",
            "Epoch 80/100\n",
            "13/13 [==============================] - 0s 4ms/step - loss: 0.4450 - val_loss: 0.5046\n",
            "Epoch 81/100\n",
            "13/13 [==============================] - 0s 5ms/step - loss: 0.4450 - val_loss: 0.5051\n",
            "Epoch 82/100\n",
            "13/13 [==============================] - 0s 4ms/step - loss: 0.4444 - val_loss: 0.5043\n",
            "Epoch 83/100\n",
            "13/13 [==============================] - 0s 5ms/step - loss: 0.4443 - val_loss: 0.5049\n",
            "Epoch 84/100\n",
            "13/13 [==============================] - 0s 5ms/step - loss: 0.4441 - val_loss: 0.5055\n",
            "Epoch 85/100\n",
            "13/13 [==============================] - 0s 4ms/step - loss: 0.4443 - val_loss: 0.5055\n",
            "Epoch 86/100\n",
            "13/13 [==============================] - 0s 4ms/step - loss: 0.4441 - val_loss: 0.5054\n",
            "Epoch 87/100\n",
            "13/13 [==============================] - 0s 4ms/step - loss: 0.4438 - val_loss: 0.5046\n",
            "Epoch 88/100\n",
            "13/13 [==============================] - 0s 4ms/step - loss: 0.4441 - val_loss: 0.5045\n",
            "Epoch 89/100\n",
            "13/13 [==============================] - 0s 4ms/step - loss: 0.4438 - val_loss: 0.5042\n",
            "Epoch 90/100\n",
            "13/13 [==============================] - 0s 5ms/step - loss: 0.4434 - val_loss: 0.5051\n",
            "Epoch 91/100\n",
            "13/13 [==============================] - 0s 5ms/step - loss: 0.4435 - val_loss: 0.5047\n",
            "Epoch 92/100\n",
            "13/13 [==============================] - 0s 4ms/step - loss: 0.4436 - val_loss: 0.5043\n",
            "Epoch 93/100\n",
            "13/13 [==============================] - 0s 4ms/step - loss: 0.4440 - val_loss: 0.5048\n",
            "Epoch 94/100\n",
            "13/13 [==============================] - 0s 4ms/step - loss: 0.4436 - val_loss: 0.5037\n",
            "Epoch 95/100\n",
            "13/13 [==============================] - 0s 4ms/step - loss: 0.4431 - val_loss: 0.5038\n",
            "Epoch 96/100\n",
            "13/13 [==============================] - 0s 5ms/step - loss: 0.4431 - val_loss: 0.5038\n",
            "Epoch 97/100\n",
            "13/13 [==============================] - 0s 5ms/step - loss: 0.4428 - val_loss: 0.5045\n",
            "Epoch 98/100\n",
            "13/13 [==============================] - 0s 5ms/step - loss: 0.4427 - val_loss: 0.5043\n",
            "Epoch 99/100\n",
            "13/13 [==============================] - 0s 5ms/step - loss: 0.4428 - val_loss: 0.5046\n",
            "Epoch 100/100\n",
            "13/13 [==============================] - 0s 4ms/step - loss: 0.4431 - val_loss: 0.5057\n"
          ]
        }
      ]
    },
    {
      "cell_type": "markdown",
      "source": [
        "## 이것을 활용해서 epoch를 어느정도로 할 지 결정할 수 있다"
      ],
      "metadata": {
        "id": "DCwep9zG8PvF"
      }
    },
    {
      "cell_type": "code",
      "source": [
        "#error가 감소하는 모습을 관찰하기\n",
        "plt.plot(hist.history['loss'], label = 'Train loss')\n",
        "plt.plot(hist.history['val_loss'], label = 'Test loss')\n",
        "plt.lengend()\n",
        "plt.title(\"Loss function\")\n",
        "plt.xlabel(\"epoch\")\n",
        "plt.ylabel(\"loss\")\n",
        "plt.show"
      ],
      "metadata": {
        "colab": {
          "base_uri": "https://localhost:8080/",
          "height": 245
        },
        "id": "wnzxgJ-j7jL_",
        "outputId": "4e8e9b73-b5bd-41fa-bdb1-110fdd33b911"
      },
      "execution_count": null,
      "outputs": [
        {
          "output_type": "error",
          "ename": "AttributeError",
          "evalue": "ignored",
          "traceback": [
            "\u001b[0;31m---------------------------------------------------------------------------\u001b[0m",
            "\u001b[0;31mAttributeError\u001b[0m                            Traceback (most recent call last)",
            "\u001b[0;32m<ipython-input-70-9a786c0e37b1>\u001b[0m in \u001b[0;36m<module>\u001b[0;34m()\u001b[0m\n\u001b[1;32m      1\u001b[0m \u001b[0;34m\u001b[0m\u001b[0m\n\u001b[1;32m      2\u001b[0m \u001b[0;31m#error가 감소하는 모습을 관찰하기\u001b[0m\u001b[0;34m\u001b[0m\u001b[0;34m\u001b[0m\u001b[0;34m\u001b[0m\u001b[0m\n\u001b[0;32m----> 3\u001b[0;31m \u001b[0mplt\u001b[0m\u001b[0;34m.\u001b[0m\u001b[0mplot\u001b[0m\u001b[0;34m(\u001b[0m\u001b[0mhist\u001b[0m\u001b[0;34m.\u001b[0m\u001b[0mhistory\u001b[0m\u001b[0;34m[\u001b[0m\u001b[0;34m'loss'\u001b[0m\u001b[0;34m]\u001b[0m\u001b[0;34m,\u001b[0m \u001b[0mlabel\u001b[0m \u001b[0;34m=\u001b[0m \u001b[0;34m'Train loss'\u001b[0m\u001b[0;34m)\u001b[0m\u001b[0;34m\u001b[0m\u001b[0;34m\u001b[0m\u001b[0m\n\u001b[0m\u001b[1;32m      4\u001b[0m \u001b[0mplt\u001b[0m\u001b[0;34m.\u001b[0m\u001b[0mplot\u001b[0m\u001b[0;34m(\u001b[0m\u001b[0mhist\u001b[0m\u001b[0;34m.\u001b[0m\u001b[0mhistory\u001b[0m\u001b[0;34m[\u001b[0m\u001b[0;34m'val_loss'\u001b[0m\u001b[0;34m]\u001b[0m\u001b[0;34m,\u001b[0m \u001b[0mlabel\u001b[0m \u001b[0;34m=\u001b[0m \u001b[0;34m'Test loss'\u001b[0m\u001b[0;34m)\u001b[0m\u001b[0;34m\u001b[0m\u001b[0;34m\u001b[0m\u001b[0m\n\u001b[1;32m      5\u001b[0m \u001b[0mplt\u001b[0m\u001b[0;34m.\u001b[0m\u001b[0mregent\u001b[0m\u001b[0;34m(\u001b[0m\u001b[0;34m)\u001b[0m\u001b[0;34m\u001b[0m\u001b[0;34m\u001b[0m\u001b[0m\n",
            "\u001b[0;31mAttributeError\u001b[0m: module 'matplotlib' has no attribute 'plot'"
          ]
        }
      ]
    },
    {
      "cell_type": "code",
      "source": [
        "#평가\n",
        "y_prob = model.predict(x_test)\n",
        "y_pred = (y_prob>0.5).astype('int8')\n",
        "\n",
        "acc = (y_test == y_pred).mean()\n",
        "print(acc)"
      ],
      "metadata": {
        "colab": {
          "base_uri": "https://localhost:8080/"
        },
        "id": "F1rKzBjsnsvs",
        "outputId": "4cc9d47f-be82-433f-f94b-ab8461edb097"
      },
      "execution_count": null,
      "outputs": [
        {
          "output_type": "stream",
          "name": "stdout",
          "text": [
            "0.7272727272727273\n"
          ]
        }
      ]
    }
  ]
}