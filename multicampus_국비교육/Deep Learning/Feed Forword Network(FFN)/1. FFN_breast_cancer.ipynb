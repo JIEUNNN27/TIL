{
  "nbformat": 4,
  "nbformat_minor": 0,
  "metadata": {
    "colab": {
      "name": "코드 연습1.ipynb",
      "provenance": []
    },
    "kernelspec": {
      "name": "python3",
      "display_name": "Python 3"
    },
    "language_info": {
      "name": "python"
    }
  },
  "cells": [
    {
      "cell_type": "markdown",
      "source": [
        "#안보고 할 수 있을 때까지 외우기!"
      ],
      "metadata": {
        "id": "m-N_AvwI8dJE"
      }
    },
    {
      "cell_type": "code",
      "execution_count": null,
      "metadata": {
        "id": "egrCN01FntoX"
      },
      "outputs": [],
      "source": [
        "from tensorflow.keras.layers import Input, Dense\n",
        "from tensorflow.keras import Model\n"
      ]
    },
    {
      "cell_type": "code",
      "source": [
        "from sklearn.datasets import load_breast_cancer"
      ],
      "metadata": {
        "id": "AhIOTrnvn9hW"
      },
      "execution_count": null,
      "outputs": []
    },
    {
      "cell_type": "code",
      "source": [
        "from sklearn.model_selection import train_test_split"
      ],
      "metadata": {
        "id": "68yPnrrdoIjx"
      },
      "execution_count": null,
      "outputs": []
    },
    {
      "cell_type": "code",
      "source": [
        "cancer = load_breast_cancer()\n",
        "\n",
        "x_feat = cancer['data']\n",
        "y_target = cancer['target'].reshape(-1, 1)"
      ],
      "metadata": {
        "id": "NbZOzhTBoP-z"
      },
      "execution_count": null,
      "outputs": []
    },
    {
      "cell_type": "code",
      "source": [
        "x_train, x_test, y_train, y_test = train_test_split(x_feat, y_target, test_size = 0.2)"
      ],
      "metadata": {
        "id": "Du2FqemPof9u"
      },
      "execution_count": null,
      "outputs": []
    },
    {
      "cell_type": "code",
      "source": [
        "xInput = Input(batch_shape = (None, x_train.shape[1]))"
      ],
      "metadata": {
        "id": "YiKOLy_-owIm"
      },
      "execution_count": null,
      "outputs": []
    },
    {
      "cell_type": "code",
      "source": [
        "hLayer = Dense(10)(xInput)"
      ],
      "metadata": {
        "id": "yNnx9hCOo9AI"
      },
      "execution_count": null,
      "outputs": []
    },
    {
      "cell_type": "code",
      "source": [
        "yOutput = Dense(y_train.shape[1], activation = \"sigmoid\")(hLayer)"
      ],
      "metadata": {
        "id": "fY6jSK0EpDtO"
      },
      "execution_count": null,
      "outputs": []
    },
    {
      "cell_type": "code",
      "source": [
        "model = Model(xInput, yOutput)\n",
        "\n",
        "model.compile(loss = 'binary_crossentropy', optimizer = 'adam')\n",
        "\n",
        "model.fit(x_train, y_train, epochs = 100)"
      ],
      "metadata": {
        "colab": {
          "base_uri": "https://localhost:8080/"
        },
        "id": "cpJy95ejpUyI",
        "outputId": "f256dc45-f31d-460d-e8e1-2b4bb62433f3"
      },
      "execution_count": null,
      "outputs": [
        {
          "output_type": "stream",
          "name": "stdout",
          "text": [
            "Epoch 1/100\n",
            "15/15 [==============================] - 1s 2ms/step - loss: 69.3857\n",
            "Epoch 2/100\n",
            "15/15 [==============================] - 0s 2ms/step - loss: 18.5416\n",
            "Epoch 3/100\n",
            "15/15 [==============================] - 0s 2ms/step - loss: 2.6126\n",
            "Epoch 4/100\n",
            "15/15 [==============================] - 0s 2ms/step - loss: 2.6020\n",
            "Epoch 5/100\n",
            "15/15 [==============================] - 0s 2ms/step - loss: 2.4855\n",
            "Epoch 6/100\n",
            "15/15 [==============================] - 0s 2ms/step - loss: 2.3318\n",
            "Epoch 7/100\n",
            "15/15 [==============================] - 0s 2ms/step - loss: 2.3183\n",
            "Epoch 8/100\n",
            "15/15 [==============================] - 0s 2ms/step - loss: 2.2991\n",
            "Epoch 9/100\n",
            "15/15 [==============================] - 0s 2ms/step - loss: 2.3185\n",
            "Epoch 10/100\n",
            "15/15 [==============================] - 0s 2ms/step - loss: 2.2688\n",
            "Epoch 11/100\n",
            "15/15 [==============================] - 0s 2ms/step - loss: 2.3124\n",
            "Epoch 12/100\n",
            "15/15 [==============================] - 0s 2ms/step - loss: 2.2564\n",
            "Epoch 13/100\n",
            "15/15 [==============================] - 0s 2ms/step - loss: 2.2582\n",
            "Epoch 14/100\n",
            "15/15 [==============================] - 0s 2ms/step - loss: 2.2227\n",
            "Epoch 15/100\n",
            "15/15 [==============================] - 0s 2ms/step - loss: 2.2792\n",
            "Epoch 16/100\n",
            "15/15 [==============================] - 0s 2ms/step - loss: 2.2517\n",
            "Epoch 17/100\n",
            "15/15 [==============================] - 0s 2ms/step - loss: 2.1885\n",
            "Epoch 18/100\n",
            "15/15 [==============================] - 0s 2ms/step - loss: 2.2437\n",
            "Epoch 19/100\n",
            "15/15 [==============================] - 0s 2ms/step - loss: 2.2154\n",
            "Epoch 20/100\n",
            "15/15 [==============================] - 0s 2ms/step - loss: 2.1769\n",
            "Epoch 21/100\n",
            "15/15 [==============================] - 0s 2ms/step - loss: 2.2731\n",
            "Epoch 22/100\n",
            "15/15 [==============================] - 0s 2ms/step - loss: 2.1515\n",
            "Epoch 23/100\n",
            "15/15 [==============================] - 0s 2ms/step - loss: 2.1538\n",
            "Epoch 24/100\n",
            "15/15 [==============================] - 0s 2ms/step - loss: 2.1419\n",
            "Epoch 25/100\n",
            "15/15 [==============================] - 0s 2ms/step - loss: 2.0876\n",
            "Epoch 26/100\n",
            "15/15 [==============================] - 0s 2ms/step - loss: 2.0575\n",
            "Epoch 27/100\n",
            "15/15 [==============================] - 0s 2ms/step - loss: 2.1778\n",
            "Epoch 28/100\n",
            "15/15 [==============================] - 0s 2ms/step - loss: 2.0996\n",
            "Epoch 29/100\n",
            "15/15 [==============================] - 0s 2ms/step - loss: 2.1498\n",
            "Epoch 30/100\n",
            "15/15 [==============================] - 0s 2ms/step - loss: 2.0341\n",
            "Epoch 31/100\n",
            "15/15 [==============================] - 0s 2ms/step - loss: 2.0344\n",
            "Epoch 32/100\n",
            "15/15 [==============================] - 0s 2ms/step - loss: 2.0130\n",
            "Epoch 33/100\n",
            "15/15 [==============================] - 0s 2ms/step - loss: 1.9903\n",
            "Epoch 34/100\n",
            "15/15 [==============================] - 0s 2ms/step - loss: 2.0127\n",
            "Epoch 35/100\n",
            "15/15 [==============================] - 0s 2ms/step - loss: 2.0108\n",
            "Epoch 36/100\n",
            "15/15 [==============================] - 0s 2ms/step - loss: 1.9412\n",
            "Epoch 37/100\n",
            "15/15 [==============================] - 0s 2ms/step - loss: 1.9606\n",
            "Epoch 38/100\n",
            "15/15 [==============================] - 0s 2ms/step - loss: 2.0118\n",
            "Epoch 39/100\n",
            "15/15 [==============================] - 0s 2ms/step - loss: 1.9898\n",
            "Epoch 40/100\n",
            "15/15 [==============================] - 0s 2ms/step - loss: 1.9431\n",
            "Epoch 41/100\n",
            "15/15 [==============================] - 0s 2ms/step - loss: 1.9206\n",
            "Epoch 42/100\n",
            "15/15 [==============================] - 0s 2ms/step - loss: 1.8755\n",
            "Epoch 43/100\n",
            "15/15 [==============================] - 0s 2ms/step - loss: 1.8909\n",
            "Epoch 44/100\n",
            "15/15 [==============================] - 0s 2ms/step - loss: 1.8682\n",
            "Epoch 45/100\n",
            "15/15 [==============================] - 0s 2ms/step - loss: 1.8302\n",
            "Epoch 46/100\n",
            "15/15 [==============================] - 0s 2ms/step - loss: 1.8947\n",
            "Epoch 47/100\n",
            "15/15 [==============================] - 0s 2ms/step - loss: 1.9261\n",
            "Epoch 48/100\n",
            "15/15 [==============================] - 0s 2ms/step - loss: 1.9621\n",
            "Epoch 49/100\n",
            "15/15 [==============================] - 0s 2ms/step - loss: 1.9445\n",
            "Epoch 50/100\n",
            "15/15 [==============================] - 0s 2ms/step - loss: 1.8473\n",
            "Epoch 51/100\n",
            "15/15 [==============================] - 0s 2ms/step - loss: 1.8271\n",
            "Epoch 52/100\n",
            "15/15 [==============================] - 0s 2ms/step - loss: 1.8277\n",
            "Epoch 53/100\n",
            "15/15 [==============================] - 0s 2ms/step - loss: 1.7570\n",
            "Epoch 54/100\n",
            "15/15 [==============================] - 0s 2ms/step - loss: 1.7757\n",
            "Epoch 55/100\n",
            "15/15 [==============================] - 0s 2ms/step - loss: 1.7628\n",
            "Epoch 56/100\n",
            "15/15 [==============================] - 0s 2ms/step - loss: 1.7670\n",
            "Epoch 57/100\n",
            "15/15 [==============================] - 0s 2ms/step - loss: 1.7310\n",
            "Epoch 58/100\n",
            "15/15 [==============================] - 0s 2ms/step - loss: 1.7583\n",
            "Epoch 59/100\n",
            "15/15 [==============================] - 0s 2ms/step - loss: 1.6830\n",
            "Epoch 60/100\n",
            "15/15 [==============================] - 0s 2ms/step - loss: 1.7167\n",
            "Epoch 61/100\n",
            "15/15 [==============================] - 0s 2ms/step - loss: 1.7049\n",
            "Epoch 62/100\n",
            "15/15 [==============================] - 0s 2ms/step - loss: 1.7548\n",
            "Epoch 63/100\n",
            "15/15 [==============================] - 0s 2ms/step - loss: 1.8064\n",
            "Epoch 64/100\n",
            "15/15 [==============================] - 0s 2ms/step - loss: 1.8155\n",
            "Epoch 65/100\n",
            "15/15 [==============================] - 0s 2ms/step - loss: 1.6776\n",
            "Epoch 66/100\n",
            "15/15 [==============================] - 0s 2ms/step - loss: 1.6901\n",
            "Epoch 67/100\n",
            "15/15 [==============================] - 0s 2ms/step - loss: 1.6274\n",
            "Epoch 68/100\n",
            "15/15 [==============================] - 0s 2ms/step - loss: 1.6987\n",
            "Epoch 69/100\n",
            "15/15 [==============================] - 0s 2ms/step - loss: 1.6486\n",
            "Epoch 70/100\n",
            "15/15 [==============================] - 0s 2ms/step - loss: 1.6987\n",
            "Epoch 71/100\n",
            "15/15 [==============================] - 0s 2ms/step - loss: 1.6252\n",
            "Epoch 72/100\n",
            "15/15 [==============================] - 0s 2ms/step - loss: 1.5920\n",
            "Epoch 73/100\n",
            "15/15 [==============================] - 0s 2ms/step - loss: 1.5614\n",
            "Epoch 74/100\n",
            "15/15 [==============================] - 0s 2ms/step - loss: 1.5443\n",
            "Epoch 75/100\n",
            "15/15 [==============================] - 0s 2ms/step - loss: 1.5610\n",
            "Epoch 76/100\n",
            "15/15 [==============================] - 0s 2ms/step - loss: 1.5378\n",
            "Epoch 77/100\n",
            "15/15 [==============================] - 0s 2ms/step - loss: 1.6281\n",
            "Epoch 78/100\n",
            "15/15 [==============================] - 0s 2ms/step - loss: 1.5898\n",
            "Epoch 79/100\n",
            "15/15 [==============================] - 0s 2ms/step - loss: 1.5100\n",
            "Epoch 80/100\n",
            "15/15 [==============================] - 0s 2ms/step - loss: 1.4851\n",
            "Epoch 81/100\n",
            "15/15 [==============================] - 0s 2ms/step - loss: 1.4757\n",
            "Epoch 82/100\n",
            "15/15 [==============================] - 0s 2ms/step - loss: 1.5309\n",
            "Epoch 83/100\n",
            "15/15 [==============================] - 0s 2ms/step - loss: 1.4678\n",
            "Epoch 84/100\n",
            "15/15 [==============================] - 0s 2ms/step - loss: 1.4676\n",
            "Epoch 85/100\n",
            "15/15 [==============================] - 0s 2ms/step - loss: 1.5970\n",
            "Epoch 86/100\n",
            "15/15 [==============================] - 0s 2ms/step - loss: 1.6472\n",
            "Epoch 87/100\n",
            "15/15 [==============================] - 0s 2ms/step - loss: 1.4568\n",
            "Epoch 88/100\n",
            "15/15 [==============================] - 0s 2ms/step - loss: 1.4462\n",
            "Epoch 89/100\n",
            "15/15 [==============================] - 0s 2ms/step - loss: 1.4351\n",
            "Epoch 90/100\n",
            "15/15 [==============================] - 0s 2ms/step - loss: 1.4082\n",
            "Epoch 91/100\n",
            "15/15 [==============================] - 0s 2ms/step - loss: 1.3778\n",
            "Epoch 92/100\n",
            "15/15 [==============================] - 0s 2ms/step - loss: 1.4598\n",
            "Epoch 93/100\n",
            "15/15 [==============================] - 0s 2ms/step - loss: 1.4497\n",
            "Epoch 94/100\n",
            "15/15 [==============================] - 0s 3ms/step - loss: 1.4398\n",
            "Epoch 95/100\n",
            "15/15 [==============================] - 0s 2ms/step - loss: 1.3302\n",
            "Epoch 96/100\n",
            "15/15 [==============================] - 0s 2ms/step - loss: 1.3611\n",
            "Epoch 97/100\n",
            "15/15 [==============================] - 0s 2ms/step - loss: 1.3659\n",
            "Epoch 98/100\n",
            "15/15 [==============================] - 0s 2ms/step - loss: 1.6949\n",
            "Epoch 99/100\n",
            "15/15 [==============================] - 0s 2ms/step - loss: 1.4961\n",
            "Epoch 100/100\n",
            "15/15 [==============================] - 0s 2ms/step - loss: 1.8480\n"
          ]
        },
        {
          "output_type": "execute_result",
          "data": {
            "text/plain": [
              "<keras.callbacks.History at 0x7f9256832f90>"
            ]
          },
          "metadata": {},
          "execution_count": 9
        }
      ]
    },
    {
      "cell_type": "code",
      "source": [
        "y_prob = model.predict(x_test)\n",
        "\n",
        "y_pred = (y_prob>0.5).astype('int8')"
      ],
      "metadata": {
        "id": "pR21Qj3epxk_"
      },
      "execution_count": null,
      "outputs": []
    },
    {
      "cell_type": "code",
      "source": [
        "acc = (y_test == y_pred).sum()/y_test.shape[0]\n",
        "acc = (y_test == y_pred).mean()\n",
        "print(acc)"
      ],
      "metadata": {
        "colab": {
          "base_uri": "https://localhost:8080/"
        },
        "id": "htvfSZmUqd6G",
        "outputId": "25555b30-5271-4005-8f34-807e720f7f48"
      },
      "execution_count": null,
      "outputs": [
        {
          "output_type": "stream",
          "name": "stdout",
          "text": [
            "0.9210526315789473\n"
          ]
        }
      ]
    },
    {
      "cell_type": "code",
      "source": [
        ""
      ],
      "metadata": {
        "id": "xj19mhIRqpuf"
      },
      "execution_count": null,
      "outputs": []
    }
  ]
}