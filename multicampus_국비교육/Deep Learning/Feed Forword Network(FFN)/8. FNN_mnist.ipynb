{
  "nbformat": 4,
  "nbformat_minor": 0,
  "metadata": {
    "colab": {
      "name": "1. 코드만.ipynb",
      "provenance": []
    },
    "kernelspec": {
      "name": "python3",
      "display_name": "Python 3"
    },
    "language_info": {
      "name": "python"
    }
  },
  "cells": [
    {
      "cell_type": "code",
      "execution_count": null,
      "metadata": {
        "id": "8f9LtaLeupxL"
      },
      "outputs": [],
      "source": [
        "import numpy as np\n",
        "import pandas as pd\n",
        "import matplotlib.pyplot as plt\n",
        "import pickle"
      ]
    },
    {
      "cell_type": "code",
      "source": [
        "DATA_PATH = '/content/drive/MyDrive/Colab Notebooks/data/mnist/'\n",
        "\n",
        "with open(DATA_PATH + 'mnist.pkl', 'rb') as f:\n",
        "        mnist = pickle.load(f)\n",
        "\n",
        "print(mnist.keys())"
      ],
      "metadata": {
        "colab": {
          "base_uri": "https://localhost:8080/",
          "height": 263
        },
        "id": "fPefjzr9uv7g",
        "outputId": "d7a37fd7-d7a2-47d2-f204-a244e2dd55b9"
      },
      "execution_count": null,
      "outputs": [
        {
          "output_type": "error",
          "ename": "FileNotFoundError",
          "evalue": "ignored",
          "traceback": [
            "\u001b[0;31m---------------------------------------------------------------------------\u001b[0m",
            "\u001b[0;31mFileNotFoundError\u001b[0m                         Traceback (most recent call last)",
            "\u001b[0;32m<ipython-input-2-af7fb22dab8d>\u001b[0m in \u001b[0;36m<module>\u001b[0;34m()\u001b[0m\n\u001b[1;32m      1\u001b[0m \u001b[0mDATA_PATH\u001b[0m \u001b[0;34m=\u001b[0m \u001b[0;34m'/content/drive/MyDrive/Colab Notebooks/data/mnist/'\u001b[0m\u001b[0;34m\u001b[0m\u001b[0;34m\u001b[0m\u001b[0m\n\u001b[1;32m      2\u001b[0m \u001b[0;34m\u001b[0m\u001b[0m\n\u001b[0;32m----> 3\u001b[0;31m \u001b[0;32mwith\u001b[0m \u001b[0mopen\u001b[0m\u001b[0;34m(\u001b[0m\u001b[0mDATA_PATH\u001b[0m \u001b[0;34m+\u001b[0m \u001b[0;34m'mnist.pkl'\u001b[0m\u001b[0;34m,\u001b[0m \u001b[0;34m'rb'\u001b[0m\u001b[0;34m)\u001b[0m \u001b[0;32mas\u001b[0m \u001b[0mf\u001b[0m\u001b[0;34m:\u001b[0m\u001b[0;34m\u001b[0m\u001b[0;34m\u001b[0m\u001b[0m\n\u001b[0m\u001b[1;32m      4\u001b[0m         \u001b[0mmnist\u001b[0m \u001b[0;34m=\u001b[0m \u001b[0mpickle\u001b[0m\u001b[0;34m.\u001b[0m\u001b[0mload\u001b[0m\u001b[0;34m(\u001b[0m\u001b[0mf\u001b[0m\u001b[0;34m)\u001b[0m\u001b[0;34m\u001b[0m\u001b[0;34m\u001b[0m\u001b[0m\n\u001b[1;32m      5\u001b[0m \u001b[0;34m\u001b[0m\u001b[0m\n",
            "\u001b[0;31mFileNotFoundError\u001b[0m: [Errno 2] No such file or directory: '/content/drive/MyDrive/Colab Notebooks/data/mnist/mnist.pkl'"
          ]
        }
      ]
    },
    {
      "cell_type": "code",
      "source": [
        "#0~255 -> 0~1.0 숫자의 범위를 변환한다\n",
        "x_feat = np.array(mnist['data'])/255\n",
        "#2차원(2d) 구조로 다시 만들어주는 reshape\n",
        "y_target = np.array(mnist['target']).astype('int8').reshape(-1, 1)\n",
        "#str으로 되어 있난 target int로 바꿔주기\n",
        "#y_target = mnist.target.to_numpy().astype('int8').reshape(-1, 1)"
      ],
      "metadata": {
        "id": "uT4xl7EHuw5t"
      },
      "execution_count": null,
      "outputs": []
    },
    {
      "cell_type": "code",
      "source": [
        "#데이터 나누기\n",
        "from sklearn.model_selection import train_test_split\n",
        "x_train, x_test, y_train, y_test = train_test_split(x_feat, y_target, test_size = 0.2)"
      ],
      "metadata": {
        "id": "uYx_c6KUuyGb"
      },
      "execution_count": null,
      "outputs": []
    },
    {
      "cell_type": "code",
      "source": [
        "#클래스 갯수\n",
        "n_class = len(set(mnist['target']))\n",
        "n_class"
      ],
      "metadata": {
        "id": "GmTFEaB5u0bt"
      },
      "execution_count": null,
      "outputs": []
    },
    {
      "cell_type": "code",
      "source": [
        "from tensorflow.keras.layers import Input, Dense\n",
        "from tensorflow.keras import Model"
      ],
      "metadata": {
        "id": "cBf4ATbOu1lT"
      },
      "execution_count": null,
      "outputs": []
    },
    {
      "cell_type": "markdown",
      "source": [
        "# 첫번째\n",
        "\n",
        "- 은닉층 1개\n",
        "- batch 20, epoch 30"
      ],
      "metadata": {
        "id": "DM0-ydYFu4AR"
      }
    },
    {
      "cell_type": "code",
      "source": [
        "#softmax 이용하기\n",
        "\n",
        "#입력층\n",
        "xInput = Input(batch_shape = (None, x_train.shape[1]))\n",
        "\n",
        "#은닉층\n",
        "hLayer = Dense(10)(xInput)\n",
        "\n",
        "#출력층\n",
        "yOutput = Dense(n_class, activation = \"softmax\")(hLayer)\n",
        "#yOutput = Dense(len(mnist.target.unique()), ...)\n",
        "\n",
        "#yOutput = Dense(y_train.shape[1], activation = \"softmax\")(hLayer)\n",
        "\n",
        "model = Model(xInput, yOutput)\n",
        "model.compile(loss = 'sparse_categorical_crossentropy', optimizer = 'adam')"
      ],
      "metadata": {
        "id": "Qdc_LMfju5BP"
      },
      "execution_count": null,
      "outputs": []
    },
    {
      "cell_type": "code",
      "source": [
        "hist = model.fit(x_train, y_train, batch_size = 20, epochs = 30,\n",
        "                 validation_data = (x_test, y_test))"
      ],
      "metadata": {
        "id": "--w5Vuepu8Uu"
      },
      "execution_count": null,
      "outputs": []
    },
    {
      "cell_type": "code",
      "source": [
        "#error 관찰\n",
        "plt.plot(hist.history['loss'], label = 'Train loss')\n",
        "plt.plot(hist.history['val_loss'], label = 'Test loss')\n",
        "plt.legend()\n",
        "plt.title(\"Loss function\")\n",
        "plt.xlabel(\"epoch\")\n",
        "plt.ylabel(\"loss\")\n",
        "plt.show"
      ],
      "metadata": {
        "id": "D11FA2FHu98e"
      },
      "execution_count": null,
      "outputs": []
    },
    {
      "cell_type": "code",
      "source": [
        "#평가\n",
        "y_prob = model.predict(x_test)\n",
        "\n",
        "y_pred = np.argmax(y_prob,axis=1).reshape(-1, 1)\n",
        "\n",
        "acc = (y_test == y_pred).mean()\n",
        "print(acc)"
      ],
      "metadata": {
        "id": "ONckBkbBu_2-"
      },
      "execution_count": null,
      "outputs": []
    },
    {
      "cell_type": "markdown",
      "source": [
        "# tuning 1\n",
        "\n",
        "- 은닉층 1개 \n",
        "- batch 100개, epoch 100"
      ],
      "metadata": {
        "id": "VL1GjlosvDak"
      }
    },
    {
      "cell_type": "code",
      "source": [
        "#softmax 이용하기\n",
        "\n",
        "#입력층\n",
        "xInput = Input(batch_shape = (None, x_train.shape[1]))\n",
        "\n",
        "#은닉층\n",
        "hLayer = Dense(10)(xInput)\n",
        "\n",
        "#출력층\n",
        "yOutput = Dense(n_class, activation = \"softmax\")(hLayer)\n",
        "#yOutput = Dense(len(mnist.target.unique()), ...)\n",
        "\n",
        "#yOutput = Dense(y_train.shape[1], activation = \"softmax\")(hLayer)\n",
        "\n",
        "model2 = Model(xInput, yOutput)\n",
        "model2.compile(loss = 'sparse_categorical_crossentropy', optimizer = 'adam')"
      ],
      "metadata": {
        "id": "mDqf7NFmvB2l"
      },
      "execution_count": null,
      "outputs": []
    },
    {
      "cell_type": "code",
      "source": [
        "hist = model2.fit(x_train, y_train, batch_size = 100, epochs = 100,\n",
        "                 validation_data = (x_test, y_test))"
      ],
      "metadata": {
        "id": "xkaWjz43vFfs"
      },
      "execution_count": null,
      "outputs": []
    },
    {
      "cell_type": "code",
      "source": [
        "#error 관찰\n",
        "plt.plot(hist.history['loss'], label = 'Train loss')\n",
        "plt.plot(hist.history['val_loss'], label = 'Test loss')\n",
        "plt.legend()\n",
        "plt.title(\"Loss function\")\n",
        "plt.xlabel(\"epoch\")\n",
        "plt.ylabel(\"loss\")\n",
        "plt.show"
      ],
      "metadata": {
        "id": "mLGC-NpQvGzi"
      },
      "execution_count": null,
      "outputs": []
    },
    {
      "cell_type": "code",
      "source": [
        "#평가\n",
        "y_prob = model2.predict(x_test)\n",
        "\n",
        "y_pred = np.argmax(y_prob,axis=1).reshape(-1, 1)\n",
        "\n",
        "acc = (y_test == y_pred).mean()\n",
        "print(acc)"
      ],
      "metadata": {
        "id": "4e9hw9EjvKYH"
      },
      "execution_count": null,
      "outputs": []
    },
    {
      "cell_type": "markdown",
      "source": [
        "# tuning2\n",
        "\n",
        "- 은닉층 1개\n",
        "- batch 100, epoch 50"
      ],
      "metadata": {
        "id": "R2ldFTRSvPh2"
      }
    },
    {
      "cell_type": "code",
      "source": [
        "#softmax 이용하기\n",
        "\n",
        "#입력층\n",
        "xInput = Input(batch_shape = (None, x_train.shape[1]))\n",
        "\n",
        "#은닉층\n",
        "hLayer = Dense(10)(xInput)\n",
        "\n",
        "#출력층\n",
        "yOutput = Dense(n_class, activation = \"softmax\")(hLayer)\n",
        "#yOutput = Dense(len(mnist.target.unique()), ...)\n",
        "\n",
        "#yOutput = Dense(y_train.shape[1], activation = \"softmax\")(hLayer)\n",
        "\n",
        "model3 = Model(xInput, yOutput)\n",
        "model3.compile(loss = 'sparse_categorical_crossentropy', optimizer = 'adam')"
      ],
      "metadata": {
        "id": "sl1r1c5KvK8w"
      },
      "execution_count": null,
      "outputs": []
    },
    {
      "cell_type": "code",
      "source": [
        "hist = model3.fit(x_train, y_train, batch_size = 100, epochs = 50,\n",
        "                 validation_data = (x_test, y_test))"
      ],
      "metadata": {
        "id": "N8MVSUuAvRIE"
      },
      "execution_count": null,
      "outputs": []
    },
    {
      "cell_type": "code",
      "source": [
        "#error 관찰\n",
        "plt.plot(hist.history['loss'], label = 'Train loss')\n",
        "plt.plot(hist.history['val_loss'], label = 'Test loss')\n",
        "plt.legend()\n",
        "plt.title(\"Loss function\")\n",
        "plt.xlabel(\"epoch\")\n",
        "plt.ylabel(\"loss\")\n",
        "plt.show"
      ],
      "metadata": {
        "id": "7gz1AO4fvSfk"
      },
      "execution_count": null,
      "outputs": []
    },
    {
      "cell_type": "code",
      "source": [
        "#평가\n",
        "y_prob = model3.predict(x_test)\n",
        "\n",
        "y_pred = np.argmax(y_prob,axis=1).reshape(-1, 1)\n",
        "\n",
        "acc = (y_test == y_pred).mean()\n",
        "print(acc)"
      ],
      "metadata": {
        "id": "Vj4SPT8IvUS6"
      },
      "execution_count": null,
      "outputs": []
    },
    {
      "cell_type": "markdown",
      "source": [
        "# Tuning3\n",
        "\n",
        "- 은닉층 1개\n",
        "- batch 50, epoch 50"
      ],
      "metadata": {
        "id": "tuVBPpZ9vXKB"
      }
    },
    {
      "cell_type": "code",
      "source": [
        "#softmax 이용하기\n",
        "\n",
        "#입력층\n",
        "xInput = Input(batch_shape = (None, x_train.shape[1]))\n",
        "\n",
        "#은닉층\n",
        "hLayer = Dense(10)(xInput)\n",
        "\n",
        "#출력층\n",
        "yOutput = Dense(n_class, activation = \"softmax\")(hLayer)\n",
        "#yOutput = Dense(len(mnist.target.unique()), ...)\n",
        "\n",
        "#yOutput = Dense(y_train.shape[1], activation = \"softmax\")(hLayer)\n",
        "\n",
        "model4 = Model(xInput, yOutput)\n",
        "model4.compile(loss = 'sparse_categorical_crossentropy', optimizer = 'adam')"
      ],
      "metadata": {
        "id": "EIqdY3nnvYw0"
      },
      "execution_count": null,
      "outputs": []
    },
    {
      "cell_type": "code",
      "source": [
        "hist = model4.fit(x_train, y_train, batch_size = 50, epochs = 50,\n",
        "                 validation_data = (x_test, y_test))"
      ],
      "metadata": {
        "id": "OqGSeAaJvduX"
      },
      "execution_count": null,
      "outputs": []
    },
    {
      "cell_type": "code",
      "source": [
        "#error 관찰\n",
        "plt.plot(hist.history['loss'], label = 'Train loss')\n",
        "plt.plot(hist.history['val_loss'], label = 'Test loss')\n",
        "plt.legend()\n",
        "plt.title(\"Loss function\")\n",
        "plt.xlabel(\"epoch\")\n",
        "plt.ylabel(\"loss\")\n",
        "plt.show"
      ],
      "metadata": {
        "id": "bwOMqaATvgrM"
      },
      "execution_count": null,
      "outputs": []
    },
    {
      "cell_type": "code",
      "source": [
        "#평가\n",
        "y_prob = model4.predict(x_test)\n",
        "\n",
        "y_pred = np.argmax(y_prob,axis=1).reshape(-1, 1)\n",
        "\n",
        "acc = (y_test == y_pred).mean()\n",
        "print(acc)"
      ],
      "metadata": {
        "id": "izHEgJscviAh"
      },
      "execution_count": null,
      "outputs": []
    },
    {
      "cell_type": "markdown",
      "source": [
        "#tuning4\n",
        "\n",
        "- 은닉층 1개\n",
        "- batch 50, epoch 30"
      ],
      "metadata": {
        "id": "c3NzKQkGvjWA"
      }
    },
    {
      "cell_type": "code",
      "source": [
        "#softmax 이용하기\n",
        "\n",
        "#입력층\n",
        "xInput = Input(batch_shape = (None, x_train.shape[1]))\n",
        "\n",
        "#은닉층\n",
        "hLayer = Dense(10)(xInput)\n",
        "\n",
        "#출력층\n",
        "yOutput = Dense(n_class, activation = \"softmax\")(hLayer)\n",
        "#yOutput = Dense(len(mnist.target.unique()), ...)\n",
        "\n",
        "#yOutput = Dense(y_train.shape[1], activation = \"softmax\")(hLayer)\n",
        "\n",
        "model5 = Model(xInput, yOutput)\n",
        "model5.compile(loss = 'sparse_categorical_crossentropy', optimizer = 'adam')"
      ],
      "metadata": {
        "id": "Vey1OlgPI8hB"
      },
      "execution_count": null,
      "outputs": []
    },
    {
      "cell_type": "code",
      "source": [
        "hist = model5.fit(x_train, y_train, batch_size = 50, epochs = 30,\n",
        "                 validation_data = (x_test, y_test))"
      ],
      "metadata": {
        "id": "hqn_WnjWI-uc"
      },
      "execution_count": null,
      "outputs": []
    },
    {
      "cell_type": "code",
      "source": [
        "#error 관찰\n",
        "plt.plot(hist.history['loss'], label = 'Train loss')\n",
        "plt.plot(hist.history['val_loss'], label = 'Test loss')\n",
        "plt.legend()\n",
        "plt.title(\"Loss function\")\n",
        "plt.xlabel(\"epoch\")\n",
        "plt.ylabel(\"loss\")\n",
        "plt.show"
      ],
      "metadata": {
        "id": "A4pYPC9pJBGd"
      },
      "execution_count": null,
      "outputs": []
    },
    {
      "cell_type": "code",
      "source": [
        "#평가\n",
        "y_prob = model5.predict(x_test)\n",
        "\n",
        "y_pred = np.argmax(y_prob,axis=1).reshape(-1, 1)\n",
        "\n",
        "acc = (y_test == y_pred).mean()\n",
        "print(acc)"
      ],
      "metadata": {
        "id": "QGCETQT1JBdd"
      },
      "execution_count": null,
      "outputs": []
    },
    {
      "cell_type": "markdown",
      "source": [
        "# Tuning5\n",
        "- 은닉층3개\n",
        "- batch 50 epoch 30"
      ],
      "metadata": {
        "id": "KPz2D8-YJHEP"
      }
    },
    {
      "cell_type": "code",
      "source": [
        "#softmax 이용하기\n",
        "\n",
        "#입력층\n",
        "xInput = Input(batch_shape = (None, x_train.shape[1]))\n",
        "\n",
        "#은닉층\n",
        "hLayer1 = Dense(10)(xInput)\n",
        "hLayer2 = Dense(10)(hLayer1)\n",
        "hLayer3 = Dense(10)(hLayer2)\n",
        "\n",
        "#출력층\n",
        "yOutput = Dense(n_class, activation = \"softmax\")(hLayer3)\n",
        "#yOutput = Dense(len(mnist.target.unique()), ...)\n",
        "\n",
        "#yOutput = Dense(y_train.shape[1], activation = \"softmax\")(hLayer)\n",
        "\n",
        "model6 = Model(xInput, yOutput)\n",
        "model6.compile(loss = 'sparse_categorical_crossentropy', optimizer = 'adam')"
      ],
      "metadata": {
        "id": "Vrt2IoOpJGXz"
      },
      "execution_count": null,
      "outputs": []
    },
    {
      "cell_type": "code",
      "source": [
        "hist = model6.fit(x_train, y_train, batch_size = 50, epochs = 30,\n",
        "                 validation_data = (x_test, y_test))"
      ],
      "metadata": {
        "id": "Q9sKppODJM6w"
      },
      "execution_count": null,
      "outputs": []
    },
    {
      "cell_type": "code",
      "source": [
        "#error 관찰\n",
        "plt.plot(hist.history['loss'], label = 'Train loss')\n",
        "plt.plot(hist.history['val_loss'], label = 'Test loss')\n",
        "plt.legend()\n",
        "plt.title(\"Loss function\")\n",
        "plt.xlabel(\"epoch\")\n",
        "plt.ylabel(\"loss\")\n",
        "plt.show"
      ],
      "metadata": {
        "id": "jaDz7SLWJN8H"
      },
      "execution_count": null,
      "outputs": []
    },
    {
      "cell_type": "code",
      "source": [
        "#평가\n",
        "y_prob = model6.predict(x_test)\n",
        "\n",
        "y_pred = np.argmax(y_prob,axis=1).reshape(-1, 1)\n",
        "\n",
        "acc = (y_test == y_pred).mean()\n",
        "print(acc)"
      ],
      "metadata": {
        "id": "QZA2a27QJPP5"
      },
      "execution_count": null,
      "outputs": []
    }
  ]
}