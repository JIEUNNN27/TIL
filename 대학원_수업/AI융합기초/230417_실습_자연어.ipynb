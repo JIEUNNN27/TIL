{
 "cells": [
  {
   "cell_type": "code",
   "execution_count": 1,
   "metadata": {
    "jupyter": {
     "outputs_hidden": true
    }
   },
   "outputs": [
    {
     "name": "stdout",
     "output_type": "stream",
     "text": [
      "Requirement already satisfied: konlpy in c:\\users\\silvi\\anaconda3\\envs\\basic\\lib\\site-packages (0.6.0)\n",
      "Requirement already satisfied: JPype1>=0.7.0 in c:\\users\\silvi\\anaconda3\\envs\\basic\\lib\\site-packages (from konlpy) (1.4.1)\n",
      "Requirement already satisfied: lxml>=4.1.0 in c:\\users\\silvi\\anaconda3\\envs\\basic\\lib\\site-packages (from konlpy) (4.9.2)\n",
      "Requirement already satisfied: numpy>=1.6 in c:\\users\\silvi\\anaconda3\\envs\\basic\\lib\\site-packages (from konlpy) (1.23.4)\n",
      "Requirement already satisfied: packaging in c:\\users\\silvi\\anaconda3\\envs\\basic\\lib\\site-packages (from JPype1>=0.7.0->konlpy) (22.0)\n"
     ]
    }
   ],
   "source": [
    "# konlpy의 인스톨\n",
    "!pip install konlpy"
   ]
  },
  {
   "cell_type": "code",
   "execution_count": 2,
   "metadata": {
    "jupyter": {
     "outputs_hidden": true
    }
   },
   "outputs": [
    {
     "name": "stdout",
     "output_type": "stream",
     "text": [
      "Requirement already satisfied: nltk in c:\\users\\silvi\\anaconda3\\envs\\basic\\lib\\site-packages (3.8.1)\n",
      "Requirement already satisfied: tqdm in c:\\users\\silvi\\anaconda3\\envs\\basic\\lib\\site-packages (from nltk) (4.64.1)\n",
      "Requirement already satisfied: click in c:\\users\\silvi\\anaconda3\\envs\\basic\\lib\\site-packages (from nltk) (8.1.3)\n",
      "Requirement already satisfied: joblib in c:\\users\\silvi\\anaconda3\\envs\\basic\\lib\\site-packages (from nltk) (1.2.0)\n",
      "Requirement already satisfied: regex>=2021.8.3 in c:\\users\\silvi\\anaconda3\\envs\\basic\\lib\\site-packages (from nltk) (2023.3.23)\n",
      "Requirement already satisfied: colorama in c:\\users\\silvi\\anaconda3\\envs\\basic\\lib\\site-packages (from click->nltk) (0.4.6)\n"
     ]
    }
   ],
   "source": [
    "!pip install nltk"
   ]
  },
  {
   "cell_type": "code",
   "execution_count": 3,
   "metadata": {},
   "outputs": [
    {
     "ename": "JVMNotFoundException",
     "evalue": "No JVM shared library file (jvm.dll) found. Try setting up the JAVA_HOME environment variable properly.",
     "output_type": "error",
     "traceback": [
      "\u001b[1;31m---------------------------------------------------------------------------\u001b[0m",
      "\u001b[1;31mJVMNotFoundException\u001b[0m                      Traceback (most recent call last)",
      "Cell \u001b[1;32mIn[3], line 2\u001b[0m\n\u001b[0;32m      1\u001b[0m \u001b[38;5;28;01mfrom\u001b[39;00m \u001b[38;5;21;01mkonlpy\u001b[39;00m\u001b[38;5;21;01m.\u001b[39;00m\u001b[38;5;21;01mtag\u001b[39;00m \u001b[38;5;28;01mimport\u001b[39;00m Okt\n\u001b[1;32m----> 2\u001b[0m okt \u001b[38;5;241m=\u001b[39m \u001b[43mOkt\u001b[49m\u001b[43m(\u001b[49m\u001b[43m)\u001b[49m\n",
      "File \u001b[1;32m~\\Anaconda3\\envs\\basic\\lib\\site-packages\\konlpy\\tag\\_okt.py:51\u001b[0m, in \u001b[0;36mOkt.__init__\u001b[1;34m(self, jvmpath, max_heap_size)\u001b[0m\n\u001b[0;32m     49\u001b[0m \u001b[38;5;28;01mdef\u001b[39;00m \u001b[38;5;21m__init__\u001b[39m(\u001b[38;5;28mself\u001b[39m, jvmpath\u001b[38;5;241m=\u001b[39m\u001b[38;5;28;01mNone\u001b[39;00m, max_heap_size\u001b[38;5;241m=\u001b[39m\u001b[38;5;241m1024\u001b[39m):\n\u001b[0;32m     50\u001b[0m     \u001b[38;5;28;01mif\u001b[39;00m \u001b[38;5;129;01mnot\u001b[39;00m jpype\u001b[38;5;241m.\u001b[39misJVMStarted():\n\u001b[1;32m---> 51\u001b[0m         \u001b[43mjvm\u001b[49m\u001b[38;5;241;43m.\u001b[39;49m\u001b[43minit_jvm\u001b[49m\u001b[43m(\u001b[49m\u001b[43mjvmpath\u001b[49m\u001b[43m,\u001b[49m\u001b[43m \u001b[49m\u001b[43mmax_heap_size\u001b[49m\u001b[43m)\u001b[49m\n\u001b[0;32m     53\u001b[0m     oktJavaPackage \u001b[38;5;241m=\u001b[39m jpype\u001b[38;5;241m.\u001b[39mJPackage(\u001b[38;5;124m'\u001b[39m\u001b[38;5;124mkr.lucypark.okt\u001b[39m\u001b[38;5;124m'\u001b[39m)\n\u001b[0;32m     54\u001b[0m     OktInterfaceJavaClass \u001b[38;5;241m=\u001b[39m oktJavaPackage\u001b[38;5;241m.\u001b[39mOktInterface\n",
      "File \u001b[1;32m~\\Anaconda3\\envs\\basic\\lib\\site-packages\\konlpy\\jvm.py:55\u001b[0m, in \u001b[0;36minit_jvm\u001b[1;34m(jvmpath, max_heap_size)\u001b[0m\n\u001b[0;32m     52\u001b[0m args \u001b[38;5;241m=\u001b[39m [javadir, os\u001b[38;5;241m.\u001b[39msep]\n\u001b[0;32m     53\u001b[0m classpath \u001b[38;5;241m=\u001b[39m [f\u001b[38;5;241m.\u001b[39mformat(\u001b[38;5;241m*\u001b[39margs) \u001b[38;5;28;01mfor\u001b[39;00m f \u001b[38;5;129;01min\u001b[39;00m folder_suffix]\n\u001b[1;32m---> 55\u001b[0m jvmpath \u001b[38;5;241m=\u001b[39m jvmpath \u001b[38;5;129;01mor\u001b[39;00m \u001b[43mjpype\u001b[49m\u001b[38;5;241;43m.\u001b[39;49m\u001b[43mgetDefaultJVMPath\u001b[49m\u001b[43m(\u001b[49m\u001b[43m)\u001b[49m\n\u001b[0;32m     57\u001b[0m \u001b[38;5;66;03m# NOTE: Temporary patch for Issue #76. Erase when possible.\u001b[39;00m\n\u001b[0;32m     58\u001b[0m \u001b[38;5;28;01mif\u001b[39;00m sys\u001b[38;5;241m.\u001b[39mplatform \u001b[38;5;241m==\u001b[39m \u001b[38;5;124m'\u001b[39m\u001b[38;5;124mdarwin\u001b[39m\u001b[38;5;124m'\u001b[39m\\\n\u001b[0;32m     59\u001b[0m         \u001b[38;5;129;01mand\u001b[39;00m jvmpath\u001b[38;5;241m.\u001b[39mfind(\u001b[38;5;124m'\u001b[39m\u001b[38;5;124m1.8.0\u001b[39m\u001b[38;5;124m'\u001b[39m) \u001b[38;5;241m>\u001b[39m \u001b[38;5;241m0\u001b[39m\\\n\u001b[0;32m     60\u001b[0m         \u001b[38;5;129;01mand\u001b[39;00m jvmpath\u001b[38;5;241m.\u001b[39mendswith(\u001b[38;5;124m'\u001b[39m\u001b[38;5;124mlibjvm.dylib\u001b[39m\u001b[38;5;124m'\u001b[39m):\n",
      "File \u001b[1;32m~\\Anaconda3\\envs\\basic\\lib\\site-packages\\jpype\\_jvmfinder.py:74\u001b[0m, in \u001b[0;36mgetDefaultJVMPath\u001b[1;34m()\u001b[0m\n\u001b[0;32m     72\u001b[0m \u001b[38;5;28;01melse\u001b[39;00m:\n\u001b[0;32m     73\u001b[0m     finder \u001b[38;5;241m=\u001b[39m LinuxJVMFinder()\n\u001b[1;32m---> 74\u001b[0m \u001b[38;5;28;01mreturn\u001b[39;00m \u001b[43mfinder\u001b[49m\u001b[38;5;241;43m.\u001b[39;49m\u001b[43mget_jvm_path\u001b[49m\u001b[43m(\u001b[49m\u001b[43m)\u001b[49m\n",
      "File \u001b[1;32m~\\Anaconda3\\envs\\basic\\lib\\site-packages\\jpype\\_jvmfinder.py:212\u001b[0m, in \u001b[0;36mJVMFinder.get_jvm_path\u001b[1;34m(self)\u001b[0m\n\u001b[0;32m    210\u001b[0m \u001b[38;5;28;01mif\u001b[39;00m jvm_notsupport_ext \u001b[38;5;129;01mis\u001b[39;00m \u001b[38;5;129;01mnot\u001b[39;00m \u001b[38;5;28;01mNone\u001b[39;00m:\n\u001b[0;32m    211\u001b[0m     \u001b[38;5;28;01mraise\u001b[39;00m jvm_notsupport_ext\n\u001b[1;32m--> 212\u001b[0m \u001b[38;5;28;01mraise\u001b[39;00m JVMNotFoundException(\u001b[38;5;124m\"\u001b[39m\u001b[38;5;124mNo JVM shared library file (\u001b[39m\u001b[38;5;132;01m{0}\u001b[39;00m\u001b[38;5;124m) \u001b[39m\u001b[38;5;124m\"\u001b[39m\n\u001b[0;32m    213\u001b[0m                            \u001b[38;5;124m\"\u001b[39m\u001b[38;5;124mfound. Try setting up the JAVA_HOME \u001b[39m\u001b[38;5;124m\"\u001b[39m\n\u001b[0;32m    214\u001b[0m                            \u001b[38;5;124m\"\u001b[39m\u001b[38;5;124menvironment variable properly.\u001b[39m\u001b[38;5;124m\"\u001b[39m\n\u001b[0;32m    215\u001b[0m                            \u001b[38;5;241m.\u001b[39mformat(\u001b[38;5;28mself\u001b[39m\u001b[38;5;241m.\u001b[39m_libfile))\n",
      "\u001b[1;31mJVMNotFoundException\u001b[0m: No JVM shared library file (jvm.dll) found. Try setting up the JAVA_HOME environment variable properly."
     ]
    }
   ],
   "source": [
    "from konlpy.tag import Okt\n",
    "okt = Okt()"
   ]
  },
  {
   "cell_type": "code",
   "execution_count": null,
   "metadata": {
    "jupyter": {
     "outputs_hidden": true
    }
   },
   "outputs": [],
   "source": [
    "okt.nouns('한국어 분석을 시작합니다. 재미있어요!!')"
   ]
  },
  {
   "cell_type": "code",
   "execution_count": null,
   "metadata": {
    "jupyter": {
     "outputs_hidden": true
    }
   },
   "outputs": [],
   "source": [
    "okt.pos('한국어 분석을 시작합니다. 재미있어요!!')"
   ]
  },
  {
   "cell_type": "code",
   "execution_count": null,
   "metadata": {
    "jupyter": {
     "outputs_hidden": true
    }
   },
   "outputs": [],
   "source": [
    "# 파일 오픈\n",
    "f = open('./data/it-life-hack/it-life-hack-6292880.txt', encoding='utf-8')\n",
    "\n",
    "# 파일내용 리드\n",
    "text = f.read()\n",
    "# 내용확인\n",
    "print(text)\n",
    "\n",
    "# 파일 클로즈\n",
    "f.close()"
   ]
  },
  {
   "cell_type": "code",
   "execution_count": null,
   "metadata": {
    "jupyter": {
     "outputs_hidden": true
    }
   },
   "outputs": [],
   "source": [
    "from konlpy.tag import Okt\n",
    "\n",
    "# 인스턴스의 생성\n",
    "okt = Okt()\n",
    "# 형태소 분석\n",
    "for token in okt.pos(text):\n",
    "    print(token)"
   ]
  },
  {
   "cell_type": "markdown",
   "metadata": {},
   "source": [
    "#### 텍스트의 정규화"
   ]
  },
  {
   "cell_type": "code",
   "execution_count": 8,
   "metadata": {
    "collapsed": true,
    "jupyter": {
     "outputs_hidden": true
    }
   },
   "outputs": [
    {
     "name": "stdout",
     "output_type": "stream",
     "text": [
      "\n",
      "      \n",
      "구형 에서 금단의 파워 업! 최신  나 소프트웨어를 한꺼번에 체크 [ 플래시백]\n",
      "텔레비전이나 와 연계 할 수있는  나 프로세서, 전환  등 재미있는 가 속속 등장했다 구형 의 금단이라고도 할 수있는 파워 업 방법에서 의 최신 , 화제의   , 새로운 보안 소프트웨어까지 한꺼번에 소개합니다\n",
      "\n",
      "■ 인텔  을 에 장착! 구형 은 얼마나 빨라질 것인가? (위)\n",
      "인텔이 최신  ' 시리즈'를 출시했다 현재  중에서도 최고의 성능을 자랑하는 이 제품을 구형 의 고속화를 도모한다는 점에서 리뷰 해 보았다 조금 색다른 리뷰가되지만, 어느 정도의 효과가 있는지, 기대가 크다\n",
      "\n",
      "\n",
      "■   \n",
      "  는 사용하는 가  (인텔   등)에서 으로 전환가능한 하이브리드 , 하지만 이와 동시에 도 바뀐다\n",
      "\n",
      "\n",
      "■ 초기 비용, 업데이트 비용 모두 무료! 저스트시스템, 도마뱀로그가 인상적인 보안 소프트웨어\n",
      "현재는 많은 사용자들이 에 보안 프로그램을 도입하고 있지만, 그 대부분은 매년 , 엔 정도 드는 업데이트 비용 과 그 절차에 대해 불만을 가지고있다 유료 소프트웨어를 이용하는 사용자의 약  %는 무료 보안 소프트웨어를 알고 있음에도 불구하고, 성능면에서 뒤 떨어지는 게 아니냐는 불안에서 도입을 미루고 있는 상황이다\n",
      "\n",
      "\n",
      "■ 텔레비전의 새로운 활용 방법을 제안! 의 봄 신상 는 와 를 연계\n",
      "는  년  월  일, 개인용 데스크톱  인 ' \"시리즈  종류  모델을  월  일부터 판매한다고 발표했다 신상품은 더 강력해진 녹화 기능 외에도  시청 · 녹화 기능에 더해서 업계 최초로 인기 를 연계한 ' 트위트 플러스'를 추가하는 등  컴퓨터 만의 기능을 탑재 스마트 폰 홈 네트워크 대응도 강화하고, \"안심 간단 쾌적\"한 디지털 엔터테인먼트를 제안하여, 주요 모델에 대해 다음과 같이 기능 강화를 실시했다\n",
      "\n",
      "\n",
      "■ 마치 축제같은 출하식! 렛츠 노트  출하 시작\n",
      " 월  일에 발매되는 '   의 출하식이  월  일 국내 제조 거점인 고베 공장에서 열렸다 동사의 컴퓨터로는 처음실시하는 출하식으로, 이 제품에 얼마나 힘이 들어가 있는지 알 수있다\n",
      "\n",
      "\n",
      "\n",
      "[엡손 정품 잉크] 잉크 카트리지  색 세트 \n",
      "엡손\n",
      "출판사  \n",
      "입소문을 본다\n",
      "\n"
     ]
    }
   ],
   "source": [
    "import re\n",
    "\n",
    "# 숫자0~9、영문대,소문자a~Z등 URL에 포함되어 있는 문자열을 제거\n",
    "reg_text = re.sub(r'[0-9a-zA-Z]+', '', text)\n",
    "reg_text = re.sub(r'[:;/+\\.-]', '', reg_text)\n",
    "\n",
    "print(reg_text)"
   ]
  },
  {
   "cell_type": "code",
   "execution_count": 9,
   "metadata": {
    "collapsed": true,
    "jupyter": {
     "outputs_hidden": true
    }
   },
   "outputs": [
    {
     "name": "stdout",
     "output_type": "stream",
     "text": [
      "구형에서금단의파워업!최신나소프트웨어를한꺼번에체크[플래시백]텔레비전이나와연계할수있는나프로세서,전환등재미있는가속속등장했다구형의금단이라고도할수있는파워업방법에서의최신,화제의,새로운보안소프트웨어까지한꺼번에소개합니다■인텔을에장착!구형은얼마나빨라질것인가?(위)인텔이최신'시리즈'를출시했다현재중에서도최고의성능을자랑하는이제품을구형의고속화를도모한다는점에서리뷰해보았다조금색다른리뷰가되지만,어느정도의효과가있는지,기대가크다■는사용하는가(인텔등)에서으로전환가능한하이브리드,하지만이와동시에도바뀐다■초기비용,업데이트비용모두무료!저스트시스템,도마뱀로그가인상적인보안소프트웨어현재는많은사용자들이에보안프로그램을도입하고있지만,그대부분은매년,엔정도드는업데이트비용과그절차에대해불만을가지고있다유료소프트웨어를이용하는사용자의약%는무료보안소프트웨어를알고있음에도불구하고,성능면에서뒤떨어지는게아니냐는불안에서도입을미루고있는상황이다■텔레비전의새로운활용방법을제안!의봄신상는와를연계는년월일,개인용데스크톱인'\"시리즈종류모델을월일부터판매한다고발표했다신상품은더강력해진녹화기능외에도시청·녹화기능에더해서업계최초로인기를연계한'트위트플러스'를추가하는등컴퓨터만의기능을탑재스마트폰홈네트워크대응도강화하고,\"안심간단쾌적\"한디지털엔터테인먼트를제안하여,주요모델에대해다음과같이기능강화를실시했다■마치축제같은출하식!렛츠노트출하시작월일에발매되는'의출하식이월일국내제조거점인고베공장에서열렸다동사의컴퓨터로는처음실시하는출하식으로,이제품에얼마나힘이들어가있는지알수있다[엡손정품잉크]잉크카트리지색세트엡손출판사입소문을본다\n"
     ]
    }
   ],
   "source": [
    "# 연습문제1\n",
    "reg_text = re.sub(r'[\\s\\n]', '', reg_text)\n",
    "\n",
    "print(reg_text)"
   ]
  },
  {
   "cell_type": "markdown",
   "metadata": {},
   "source": [
    "#### 단어를 품사로 추출"
   ]
  },
  {
   "cell_type": "code",
   "execution_count": 10,
   "metadata": {
    "collapsed": true,
    "jupyter": {
     "outputs_hidden": true
    }
   },
   "outputs": [
    {
     "name": "stdout",
     "output_type": "stream",
     "text": [
      "구형\n",
      "금단\n",
      "파워\n",
      "업\n",
      "최신\n",
      "나\n",
      "소프트웨어\n",
      "번\n",
      "체크\n",
      "플래시백\n",
      "텔레비전\n",
      "계\n",
      "수\n",
      "나\n",
      "프로세서\n",
      "전환\n",
      "등\n",
      "등장\n",
      "구형\n",
      "의\n",
      "금단\n",
      "수\n",
      "파워\n",
      "업\n",
      "방법\n",
      "의\n",
      "최신\n",
      "화제\n",
      "보안\n",
      "소프트웨어\n",
      "번\n",
      "소개\n",
      "인텔\n",
      "장착\n",
      "구형\n",
      "은\n",
      "얼마나\n",
      "것\n",
      "위\n",
      "인텔\n",
      "최신\n",
      "시리즈\n",
      "를\n",
      "출시\n",
      "현재\n",
      "중\n",
      "최고\n",
      "성능\n",
      "자랑\n",
      "이\n",
      "제품\n",
      "구형\n",
      "의\n",
      "고속\n",
      "도모\n",
      "점\n",
      "리뷰\n",
      "해\n",
      "조금\n",
      "리뷰\n",
      "정도\n",
      "효과\n",
      "기대\n",
      "사용\n",
      "인텔\n",
      "등\n",
      "전환\n",
      "하이브리드\n",
      "이\n",
      "동시\n",
      "도\n",
      "초기\n",
      "비용\n",
      "업데이트\n",
      "비용\n",
      "모두\n",
      "무료\n",
      "저스트\n",
      "시스템\n",
      "도마뱀\n",
      "로그\n",
      "인상\n",
      "보안\n",
      "소프트웨어\n",
      "현재\n",
      "사용자\n",
      "보안\n",
      "프로그램\n",
      "도입\n",
      "그\n",
      "대부분\n",
      "매년\n",
      "정도\n",
      "업데이트\n",
      "비용\n",
      "과\n",
      "그\n",
      "절차\n",
      "대해\n",
      "불만\n",
      "유료\n",
      "소프트웨어\n",
      "이용\n",
      "사용자\n",
      "약\n",
      "무료\n",
      "보안\n",
      "소프트웨어\n",
      "알\n",
      "불구\n",
      "성능\n",
      "면\n",
      "뒤\n",
      "게\n",
      "불안\n",
      "도입\n",
      "상황\n",
      "텔레비전\n",
      "활용\n",
      "방법\n",
      "제안\n",
      "의\n",
      "봄\n",
      "신상\n",
      "를\n",
      "계\n",
      "년\n",
      "월\n",
      "일\n",
      "개인\n",
      "용\n",
      "데스크톱\n",
      "인\n",
      "시리즈\n",
      "종류\n",
      "모델\n",
      "월\n",
      "일\n",
      "판매\n",
      "발표\n",
      "상품\n",
      "더\n",
      "녹화\n",
      "기능\n",
      "외\n",
      "시청\n",
      "녹화\n",
      "기능\n",
      "업계\n",
      "최초\n",
      "인기\n",
      "를\n",
      "계\n",
      "트\n",
      "위트\n",
      "플러스\n",
      "를\n",
      "추가\n",
      "등\n",
      "컴퓨터\n",
      "기능\n",
      "탑재\n",
      "스마트\n",
      "폰\n",
      "홈\n",
      "네트워크\n",
      "대응\n",
      "안심\n",
      "간단\n",
      "쾌적\n",
      "디지털\n",
      "엔터테인먼트\n",
      "제안\n",
      "주요\n",
      "모델\n",
      "대해\n",
      "다음\n",
      "기능\n",
      "강화\n",
      "실시\n",
      "마치\n",
      "축제\n",
      "출하\n",
      "렛츠\n",
      "노트\n",
      "출하\n",
      "시작\n",
      "월\n",
      "일\n",
      "발매\n",
      "의\n",
      "출하\n",
      "식이\n",
      "월\n",
      "일\n",
      "국내\n",
      "제조\n",
      "거점\n",
      "고베\n",
      "공장\n",
      "동사\n",
      "컴퓨터\n",
      "처음\n",
      "실시\n",
      "출하\n",
      "이\n",
      "제품\n",
      "얼마나\n",
      "힘\n",
      "알\n",
      "수\n",
      "엡손\n",
      "정품\n",
      "잉크\n",
      "잉크\n",
      "카트리지\n",
      "색\n",
      "세트\n",
      "엡손\n",
      "출판사\n",
      "입\n",
      "소문\n"
     ]
    }
   ],
   "source": [
    "from konlpy.tag import Okt\n",
    "# 인스턴스의 생성\n",
    "okt = Okt()\n",
    "# 형태소 분석\n",
    "for token in okt.nouns(text):\n",
    "    print(token)"
   ]
  },
  {
   "cell_type": "markdown",
   "metadata": {},
   "source": [
    "#### 단어의 출현회수를 카운트"
   ]
  },
  {
   "cell_type": "code",
   "execution_count": 11,
   "metadata": {
    "collapsed": true,
    "jupyter": {
     "outputs_hidden": true
    }
   },
   "outputs": [
    {
     "name": "stdout",
     "output_type": "stream",
     "text": [
      "Counter({'소프트웨어': 5, '구형': 4, '보안': 4, '기능': 4, '출하': 4, '최신': 3, '계': 3, '등': 3, '인텔': 3, '비용': 3, '금단': 2, '파워': 2, '업': 2, '번': 2, '텔레비전': 2, '전환': 2, '방법': 2, '얼마나': 2, '시리즈': 2, '를': 2, '현재': 2, '성능': 2, '제품': 2, '리뷰': 2, '정도': 2, '업데이트': 2, '무료': 2, '사용자': 2, '도입': 2, '대해': 2, '제안': 2, '모델': 2, '월일': 2, '녹화': 2, '컴퓨터': 2, '실시': 2, '엡손': 2, '잉크': 2, '체크': 1, '플래시백': 1, '이나': 1, '프로세서': 1, '등장': 1, '화제': 1, '소개': 1, '장착': 1, '것': 1, '위': 1, '출시': 1, '최고': 1, '자랑': 1, '고속': 1, '도모': 1, '점': 1, '조금': 1, '효과': 1, '대가': 1, '하이브리드': 1, '만이': 1, '동시': 1, '초기': 1, '저스트': 1, '시스템': 1, '도마뱀': 1, '로그': 1, '인상': 1, '프로그램': 1, '대부분': 1, '매년': 1, '절차': 1, '불만': 1, '가지': 1, '유료': 1, '이용': 1, '의약': 1, '불구': 1, '면': 1, '뒤': 1, '불안': 1, '상황': 1, '활용': 1, '의봄': 1, '신상': 1, '년월': 1, '일': 1, '데스크톱': 1, '종류': 1, '판매': 1, '고': 1, '발표': 1, '상품': 1, '더': 1, '외': 1, '시청': 1, '업계': 1, '최초': 1, '인기': 1, '트': 1, '위트': 1, '플러스': 1, '추가': 1, '탑재': 1, '스마트폰': 1, '홈': 1, '네트워크': 1, '대응': 1, '안심': 1, '간단': 1, '쾌적': 1, '디지털': 1, '엔터테인먼트': 1, '다음': 1, '강화': 1, '마치': 1, '축제': 1, '렛츠': 1, '노트': 1, '발매': 1, '의': 1, '이월': 1, '국내': 1, '거점': 1, '고베': 1, '공장': 1, '사의': 1, '처음': 1, '힘': 1, '정품': 1, '카트리지': 1, '색': 1, '세트': 1, '출판사': 1, '입': 1, '소문': 1})\n"
     ]
    }
   ],
   "source": [
    "# 연습문제2\n",
    "import collections\n",
    "from konlpy.tag import Okt\n",
    "okt = Okt()\n",
    "\n",
    "# 단어 보존 리스트\n",
    "text = []\n",
    "\n",
    "# 필터를 사용한 형태소 분석\n",
    "for token in okt.nouns(reg_text):\n",
    "    text.append(token)\n",
    "\n",
    "# 단어의 출현회수를 카운트\n",
    "c = collections.Counter(text)\n",
    "print(c)"
   ]
  },
  {
   "cell_type": "code",
   "execution_count": null,
   "metadata": {},
   "outputs": [],
   "source": []
  }
 ],
 "metadata": {
  "kernelspec": {
   "display_name": "Python 3 (ipykernel)",
   "language": "python",
   "name": "python3"
  },
  "language_info": {
   "codemirror_mode": {
    "name": "ipython",
    "version": 3
   },
   "file_extension": ".py",
   "mimetype": "text/x-python",
   "name": "python",
   "nbconvert_exporter": "python",
   "pygments_lexer": "ipython3",
   "version": "3.9.15"
  }
 },
 "nbformat": 4,
 "nbformat_minor": 4
}
