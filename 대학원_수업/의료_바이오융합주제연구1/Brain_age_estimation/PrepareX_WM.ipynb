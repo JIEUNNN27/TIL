{
 "cells": [
  {
   "cell_type": "code",
   "execution_count": 1,
   "id": "5b44414f",
   "metadata": {},
   "outputs": [],
   "source": [
    "import os\n",
    "import pandas as pd\n",
    "import numpy as np\n",
    "import nibabel as nib"
   ]
  },
  {
   "cell_type": "code",
   "execution_count": 2,
   "id": "a9d255f0",
   "metadata": {},
   "outputs": [],
   "source": [
    "#%% dataset\n",
    "datapath = './' # specify the path where the 'data_regression' directory exists\n",
    "dataset = ['train', 'test']\n",
    "datasetxlsfile = os.path.join(datapath, 'Dataset.xlsx')"
   ]
  },
  {
   "cell_type": "code",
   "execution_count": 3,
   "id": "0de90561",
   "metadata": {},
   "outputs": [],
   "source": [
    "#%% variable\n",
    "variable = {}\n",
    "variable['response'] = 'Age'\n",
    "variable['confounding'] = ['TIV', 'Sex']\n",
    "variable['predictor'] = 'WM'"
   ]
  },
  {
   "cell_type": "code",
   "execution_count": 4,
   "id": "fa5da895",
   "metadata": {},
   "outputs": [],
   "source": [
    "#%% atlas\n",
    "atlas = {}\n",
    "atlas['imgfile'] = os.path.join(datapath, 'atlas', 'Hammers_60.nii')\n",
    "v_atlas = nib.load(atlas['imgfile'])\n",
    "y_atlas = v_atlas.get_fdata()\n",
    "atlas['labelxlsfile'] = os.path.join(datapath, 'atlas', 'Hammers_60.xls')\n",
    "atlasT = pd.read_excel(atlas['labelxlsfile'])\n",
    "atlas['labelidx'] = atlasT['Label'].values"
   ]
  },
  {
   "cell_type": "code",
   "execution_count": 5,
   "id": "5d43b5e3",
   "metadata": {},
   "outputs": [],
   "source": [
    "#%% machinelearningpath\n",
    "machinelearningpath = os.path.join(datapath, 'machine_learning3')\n",
    "if not os.path.isdir(machinelearningpath):\n",
    "    os.makedirs(machinelearningpath)"
   ]
  },
  {
   "cell_type": "code",
   "execution_count": 6,
   "id": "21807200",
   "metadata": {},
   "outputs": [
    {
     "name": "stdout",
     "output_type": "stream",
     "text": [
      "train: 120 samples × 62 features written\n",
      "\tNo samples containing NaNs\n",
      "test: 24 samples × 62 features written\n",
      "\tNo samples containing NaNs\n"
     ]
    }
   ],
   "source": [
    "#%% xtxtfile\n",
    "for i_dataset in range(len(dataset)):\n",
    "    xtxtfile = os.path.join(machinelearningpath, f'X_{dataset[i_dataset]}.txt')\n",
    "    X = {}\n",
    "    T = pd.read_excel(datasetxlsfile, sheet_name=dataset[i_dataset])\n",
    "\n",
    "    # response\n",
    "    X['response'] = pd.DataFrame()\n",
    "    if dataset[i_dataset] == 'train':\n",
    "        if variable['response'] == 'Group':\n",
    "            X['response'][variable['response']] = T[variable['response']].str.replace('Group', '').astype(int)\n",
    "        else:\n",
    "            X['response'][variable['response']] = T[variable['response']]\n",
    "\n",
    "    # confounding\n",
    "    X['confounding'] = T[variable['confounding']]\n",
    "\n",
    "    # predictor\n",
    "    X['predictor'] = pd.DataFrame()\n",
    "    for i_subj in range(len(T['Subject'])):\n",
    "        if variable['response'] == 'Group' and dataset[i_dataset] == 'train':\n",
    "            subjimgfile = os.path.join(datapath, dataset[i_dataset], f\"{T['Group'][i_subj]}_{T['Subject'][i_subj]}_{variable['predictor']}.nii\")\n",
    "        else:\n",
    "            subjimgfile = os.path.join(datapath, dataset[i_dataset], f\"{T['Subject'][i_subj]}_{variable['predictor']}.nii\")\n",
    "        v = nib.load(subjimgfile)\n",
    "        y = v.get_fdata()\n",
    "        for i_label in range(len(atlas['labelidx'])):\n",
    "            X['predictor'].at[i_subj,atlasT['Name'][i_label]] = np.mean(y[y_atlas == atlas['labelidx'][i_label]])\n",
    "        del subjimgfile, v, y\n",
    "\n",
    "    # all\n",
    "    X['all'] = pd.concat([X['response'], X['confounding'], X['predictor']], axis=1)\n",
    "    X['all'].to_csv(xtxtfile, sep=',', index=False)\n",
    "    if dataset[i_dataset] == 'train':\n",
    "        print(f\"{dataset[i_dataset]}: {X['all'].shape[0]} samples \\u00D7 {X['all'].shape[1]-1} features written\")\n",
    "    elif dataset[i_dataset] == 'test':\n",
    "        print(f\"{dataset[i_dataset]}: {X['all'].shape[0]} samples \\u00D7 {X['all'].shape[1]} features written\")\n",
    "    if np.any(np.isnan(X['all'].values)):\n",
    "        print(f\"\\t{np.count_nonzero(np.isnan(X['all'].values), axis=1)} samples containing NaNs\")\n",
    "    else:\n",
    "        print('\\tNo samples containing NaNs')\n",
    "    del xtxtfile, X, T"
   ]
  },
  {
   "cell_type": "code",
   "execution_count": null,
   "id": "da330b0c",
   "metadata": {},
   "outputs": [],
   "source": []
  }
 ],
 "metadata": {
  "kernelspec": {
   "display_name": "test",
   "language": "python",
   "name": "test"
  },
  "language_info": {
   "codemirror_mode": {
    "name": "ipython",
    "version": 3
   },
   "file_extension": ".py",
   "mimetype": "text/x-python",
   "name": "python",
   "nbconvert_exporter": "python",
   "pygments_lexer": "ipython3",
   "version": "3.9.16"
  }
 },
 "nbformat": 4,
 "nbformat_minor": 5
}
